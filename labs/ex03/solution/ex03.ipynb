{
 "cells": [
  {
   "cell_type": "code",
   "execution_count": 1,
   "metadata": {},
   "outputs": [],
   "source": [
    "# Useful starting lines\n",
    "%matplotlib inline\n",
    "import numpy as np\n",
    "import matplotlib.pyplot as plt\n",
    "%load_ext autoreload\n",
    "%autoreload 2"
   ]
  },
  {
   "cell_type": "markdown",
   "metadata": {},
   "source": [
    "# 1 Least squares and linear basis functions models\n",
    "## 1.1 Least squares"
   ]
  },
  {
   "cell_type": "code",
   "execution_count": 2,
   "metadata": {},
   "outputs": [],
   "source": [
    "def least_squares(y, tx):\n",
    "    \"\"\"calculate the least squares solution.\"\"\"\n",
    "    a = tx.T.dot(tx)\n",
    "    b = tx.T.dot(y)\n",
    "    return np.linalg.solve(a, b)"
   ]
  },
  {
   "cell_type": "markdown",
   "metadata": {},
   "source": [
    "### Load the data\n",
    "Here we will reuse the dataset `height_weight_genders.csv` from previous exercise section to check the correctness of your implementation. Please compare it with your previous result."
   ]
  },
  {
   "cell_type": "code",
   "execution_count": 3,
   "metadata": {},
   "outputs": [],
   "source": [
    "from helpers import *\n",
    "def test_your_least_squares():\n",
    "    height, weight, gender = load_data_from_ex02(sub_sample=False, add_outlier=False)\n",
    "    x, mean_x, std_x = standardize(height)\n",
    "    y, tx = build_model_data(x, weight)\n",
    "    weight = least_squares(y, tx)\n",
    "    print(weight)\n",
    "\n"
   ]
  },
  {
   "cell_type": "markdown",
   "metadata": {},
   "source": [
    "Test it here"
   ]
  },
  {
   "cell_type": "code",
   "execution_count": 4,
   "metadata": {},
   "outputs": [
    {
     "name": "stdout",
     "output_type": "stream",
     "text": [
      "[73.293922   13.47971243]\n"
     ]
    }
   ],
   "source": [
    "test_your_least_squares()"
   ]
  },
  {
   "cell_type": "markdown",
   "metadata": {},
   "source": [
    "## 1.2 Least squares with a linear basis function model\n",
    "Start from this section, we will use the dataset `dataEx3.csv`.\n",
    "\n",
    "### Implement polynomial basis functions"
   ]
  },
  {
   "cell_type": "code",
   "execution_count": 13,
   "metadata": {
    "scrolled": true
   },
   "outputs": [
    {
     "name": "stdout",
     "output_type": "stream",
     "text": [
      "shape of x (50,)\n",
      "shape of y (50,)\n"
     ]
    }
   ],
   "source": [
    "# load dataset\n",
    "x, y = load_data()\n",
    "print(\"shape of x {}\".format(x.shape))\n",
    "print(\"shape of y {}\".format(y.shape))"
   ]
  },
  {
   "cell_type": "code",
   "execution_count": 59,
   "metadata": {},
   "outputs": [],
   "source": [
    "def build_poly(x, degree):\n",
    "    \"\"\"polynomial basis functions for input data x, for j=0 up to j=degree.\"\"\"\n",
    "    poly = np.ones((len(x), 1), dtype=float)\n",
    "    for deg in range(1, degree+1):\n",
    "        poly = np.c_[poly, np.power(x, deg)]\n",
    "    return poly"
   ]
  },
  {
   "cell_type": "code",
   "execution_count": 55,
   "metadata": {},
   "outputs": [
    {
     "data": {
      "text/plain": [
       "array([1.04005129e-05, 3.86722988e+07, 9.58575345e+02, 9.87135831e+05,\n",
       "       6.59657660e+05, 3.18186108e-02, 3.04837282e+06, 1.88119287e+08,\n",
       "       6.02529829e+08, 1.33352445e+04, 3.95670101e-03, 1.45628527e+06,\n",
       "       1.83435880e-01, 2.35873086e+04, 1.93944361e+02, 1.13820138e+08,\n",
       "       4.82013301e+08, 3.83824262e+08, 3.01525448e-04, 1.11399616e+05,\n",
       "       1.59546254e+07, 8.31008832e-01, 3.13616447e+00, 1.00000000e-11,\n",
       "       3.86757647e+03, 2.98887775e+01, 4.33256660e+06, 2.39835219e+08,\n",
       "       8.47612915e+06, 1.02563688e+01, 7.30764014e+03, 1.96847189e+03,\n",
       "       7.92193576e+01, 2.16036249e+07, 1.16819711e+07, 1.78654188e+05,\n",
       "       7.92781769e-08, 8.77519233e+07, 5.11667809e+07, 1.46747954e+08,\n",
       "       4.05644263e+04, 2.90159156e+07, 2.80993396e+05, 4.43855041e+02,\n",
       "       2.12006859e+06, 4.34110823e+05, 3.04168240e+08, 6.09107148e+06,\n",
       "       6.80063434e+04, 6.72292470e+07])"
      ]
     },
     "execution_count": 55,
     "metadata": {},
     "output_type": "execute_result"
    }
   ],
   "source": [
    "build_poly(x,12)[:,11]"
   ]
  },
  {
   "cell_type": "markdown",
   "metadata": {},
   "source": [
    "Let us play with polynomial regression. Note that we will use your implemented function `compute_mse`. Please copy and paste your implementation from exercise02."
   ]
  },
  {
   "cell_type": "code",
   "execution_count": 58,
   "metadata": {},
   "outputs": [],
   "source": [
    "from costs import compute_mse\n",
    "from plots import *\n",
    "\n",
    "def polynomial_regression():\n",
    "    \"\"\"Constructing the polynomial basis function expansion of the data,\n",
    "       and then running least squares regression.\"\"\"\n",
    "    # define parameters\n",
    "    degrees = [1, 3, 7, 12]\n",
    "    \n",
    "    # define the structure of the figure\n",
    "    num_row = 2\n",
    "    num_col = 2\n",
    "    f, axs = plt.subplots(num_row, num_col)\n",
    "\n",
    "    for ind, degree in enumerate(degrees):\n",
    "        # form dataset to do polynomial regression.\n",
    "        tx = build_poly(x, degree)\n",
    "        # least squares\n",
    "        weights = least_squares(y, tx)\n",
    "        # compute RMSE\n",
    "        rmse = np.sqrt(2 * compute_mse(y, tx, weights))\n",
    "        print(\"Processing {i}th experiment, degree={d}, rmse={loss}\".format(\n",
    "              i=ind + 1, d=degree, loss=rmse))\n",
    "        # plot fit\n",
    "        plot_fitted_curve(\n",
    "            y, x, weights, degree, axs[ind // num_col][ind % num_col])\n",
    "    plt.tight_layout()\n",
    "    plt.savefig(\"visualize_polynomial_regression\")\n",
    "    plt.show()"
   ]
  },
  {
   "cell_type": "markdown",
   "metadata": {},
   "source": [
    "Run polynomial regression"
   ]
  },
  {
   "cell_type": "code",
   "execution_count": 60,
   "metadata": {
    "scrolled": true
   },
   "outputs": [
    {
     "name": "stdout",
     "output_type": "stream",
     "text": [
      "[ 0.83431835 -0.28976617]\n",
      "Processing 1th experiment, degree=1, rmse=0.47187607963421874\n",
      "[-0.11521169  1.58466469 -0.76372992  0.08215316]\n",
      "Processing 2th experiment, degree=3, rmse=0.25858277667737506\n",
      "[ 3.22356468e-01 -4.05990188e-01  1.64303565e+00 -1.12131791e+00\n",
      "  2.72479674e-01 -2.25108750e-02 -7.79999268e-04  1.53902667e-04]\n",
      "Processing 3th experiment, degree=7, rmse=0.24965870360907413\n",
      "[ 1.10369121e+00 -1.14888199e+01  5.10136080e+01 -1.03979580e+02\n",
      "  1.19495381e+02 -8.43803991e+01  3.83650578e+01 -1.14982381e+01\n",
      "  2.27749898e+00 -2.91909600e-01  2.28883919e-02 -9.68191159e-04\n",
      "  1.58550450e-05]\n",
      "Processing 4th experiment, degree=12, rmse=0.240882577716907\n"
     ]
    },
    {
     "data": {
      "image/png": "[encoded data removed]",
      "text/plain": [
       "<Figure size 432x288 with 4 Axes>"
      ]
     },
     "metadata": {},
     "output_type": "display_data"
    }
   ],
   "source": [
    "polynomial_regression()"
   ]
  },
  {
   "cell_type": "markdown",
   "metadata": {},
   "source": [
    "# 2 Evaluating model predication performance\n",
    "\n",
    "Let us show the train and test splits for various polynomial degrees. First of all, please fill in the function `split_data()`"
   ]
  },
  {
   "cell_type": "code",
   "execution_count": 64,
   "metadata": {},
   "outputs": [],
   "source": [
    "def split_data(x, y, ratio, seed=1):\n",
    "    \"\"\"split the dataset based on the split ratio.\"\"\"\n",
    "    # set seed\n",
    "    np.random.seed(seed)\n",
    "    # generate random indices\n",
    "    num_row = len(y)\n",
    "    indices = np.random.permutation(num_row)\n",
    "    index_split = int(np.floor(ratio * num_row))\n",
    "    index_tr = indices[: index_split]\n",
    "    index_te = indices[index_split:]\n",
    "    # create split\n",
    "    x_tr = x[index_tr]\n",
    "    x_te = x[index_te]\n",
    "    y_tr = y[index_tr]\n",
    "    y_te = y[index_te]\n",
    "    return x_tr, x_te, y_tr, y_te"
   ]
  },
  {
   "cell_type": "markdown",
   "metadata": {},
   "source": [
    "Then, test your `split_data` function below."
   ]
  },
  {
   "cell_type": "code",
   "execution_count": 71,
   "metadata": {},
   "outputs": [],
   "source": [
    "def train_test_split_demo(x, y, degree, ratio, seed):\n",
    "    \"\"\"polynomial regression with different split ratios and different degrees.\"\"\"\n",
    "    x_tr, x_te, y_tr, y_te = split_data(x, y, ratio, seed)\n",
    "    # form tx\n",
    "    tx_tr = build_poly(x_tr, degree)\n",
    "    tx_te = build_poly(x_te, degree)\n",
    "    print(x_tr)\n",
    "\n",
    "    weight = least_squares(y_tr, tx_tr)\n",
    "\n",
    "    # calculate RMSE for train and test data.\n",
    "    rmse_tr = np.sqrt(2 * compute_mse(y_tr, tx_tr, weight))\n",
    "    rmse_te = np.sqrt(2 * compute_mse(y_te, tx_te, weight))\n",
    "\n",
    "    print(\"proportion={p}, degree={d}, Training RMSE={tr:.3f}, Testing RMSE={te:.3f}\".format(\n",
    "          p=ratio, d=degree, tr=rmse_tr, te=rmse_te))"
   ]
  },
  {
   "cell_type": "markdown",
   "metadata": {},
   "source": [
    "Demo time"
   ]
  },
  {
   "cell_type": "code",
   "execution_count": 72,
   "metadata": {},
   "outputs": [
    {
     "name": "stdout",
     "output_type": "stream",
     "text": [
      "[5.14749821 2.6237491  5.02131076 0.1        5.65224803 0.35237491\n",
      " 3.88562366 4.39037348 1.61424946 1.99281183 2.74993656 2.11899928\n",
      " 2.87612401 3.50706129 4.76893584 4.26418602 1.74043692 2.24518674\n",
      " 4.13799857 6.0308104  0.98331219 1.2356871  5.52606058 0.47856237\n",
      " 1.10949964 3.7594362  5.27368567 0.73093728 1.48806201 5.77843549\n",
      " 5.90462294 0.85712473 1.86662437 6.28318531 0.22618746 3.38087384\n",
      " 4.64274839 4.01181111 2.49756165 3.63324875 4.8951233  1.36187455\n",
      " 6.15699785 3.25468638 5.39987312]\n",
      "proportion=0.9, degree=1, Training RMSE=0.494, Testing RMSE=0.181\n",
      "[5.14749821 2.6237491  5.02131076 0.1        5.65224803 0.35237491\n",
      " 3.88562366 4.39037348 1.61424946 1.99281183 2.74993656 2.11899928\n",
      " 2.87612401 3.50706129 4.76893584 4.26418602 1.74043692 2.24518674\n",
      " 4.13799857 6.0308104  0.98331219 1.2356871  5.52606058 0.47856237\n",
      " 1.10949964 3.7594362  5.27368567 0.73093728 1.48806201 5.77843549\n",
      " 5.90462294 0.85712473 1.86662437 6.28318531 0.22618746 3.38087384\n",
      " 4.64274839 4.01181111 2.49756165 3.63324875 4.8951233  1.36187455\n",
      " 6.15699785 3.25468638 5.39987312]\n",
      "proportion=0.9, degree=3, Training RMSE=0.264, Testing RMSE=0.206\n",
      "[5.14749821 2.6237491  5.02131076 0.1        5.65224803 0.35237491\n",
      " 3.88562366 4.39037348 1.61424946 1.99281183 2.74993656 2.11899928\n",
      " 2.87612401 3.50706129 4.76893584 4.26418602 1.74043692 2.24518674\n",
      " 4.13799857 6.0308104  0.98331219 1.2356871  5.52606058 0.47856237\n",
      " 1.10949964 3.7594362  5.27368567 0.73093728 1.48806201 5.77843549\n",
      " 5.90462294 0.85712473 1.86662437 6.28318531 0.22618746 3.38087384\n",
      " 4.64274839 4.01181111 2.49756165 3.63324875 4.8951233  1.36187455\n",
      " 6.15699785 3.25468638 5.39987312]\n",
      "proportion=0.9, degree=7, Training RMSE=0.254, Testing RMSE=0.220\n",
      "[5.14749821 2.6237491  5.02131076 0.1        5.65224803 0.35237491\n",
      " 3.88562366 4.39037348 1.61424946 1.99281183 2.74993656 2.11899928\n",
      " 2.87612401 3.50706129 4.76893584 4.26418602 1.74043692 2.24518674\n",
      " 4.13799857 6.0308104  0.98331219 1.2356871  5.52606058 0.47856237\n",
      " 1.10949964 3.7594362  5.27368567 0.73093728 1.48806201 5.77843549\n",
      " 5.90462294 0.85712473 1.86662437 6.28318531 0.22618746 3.38087384\n",
      " 4.64274839 4.01181111 2.49756165 3.63324875 4.8951233  1.36187455\n",
      " 6.15699785 3.25468638 5.39987312]\n",
      "proportion=0.9, degree=12, Training RMSE=0.243, Testing RMSE=0.255\n",
      "[5.14749821 2.6237491  5.02131076 0.1        5.65224803 0.35237491\n",
      " 3.88562366 4.39037348 1.61424946 1.99281183 2.74993656 2.11899928\n",
      " 2.87612401 3.50706129 4.76893584 4.26418602 1.74043692 2.24518674\n",
      " 4.13799857 6.0308104  0.98331219 1.2356871  5.52606058 0.47856237\n",
      " 1.10949964]\n",
      "proportion=0.5, degree=1, Training RMSE=0.455, Testing RMSE=0.531\n",
      "[5.14749821 2.6237491  5.02131076 0.1        5.65224803 0.35237491\n",
      " 3.88562366 4.39037348 1.61424946 1.99281183 2.74993656 2.11899928\n",
      " 2.87612401 3.50706129 4.76893584 4.26418602 1.74043692 2.24518674\n",
      " 4.13799857 6.0308104  0.98331219 1.2356871  5.52606058 0.47856237\n",
      " 1.10949964]\n",
      "proportion=0.5, degree=3, Training RMSE=0.239, Testing RMSE=0.296\n",
      "[5.14749821 2.6237491  5.02131076 0.1        5.65224803 0.35237491\n",
      " 3.88562366 4.39037348 1.61424946 1.99281183 2.74993656 2.11899928\n",
      " 2.87612401 3.50706129 4.76893584 4.26418602 1.74043692 2.24518674\n",
      " 4.13799857 6.0308104  0.98331219 1.2356871  5.52606058 0.47856237\n",
      " 1.10949964]\n",
      "proportion=0.5, degree=7, Training RMSE=0.232, Testing RMSE=0.284\n",
      "[5.14749821 2.6237491  5.02131076 0.1        5.65224803 0.35237491\n",
      " 3.88562366 4.39037348 1.61424946 1.99281183 2.74993656 2.11899928\n",
      " 2.87612401 3.50706129 4.76893584 4.26418602 1.74043692 2.24518674\n",
      " 4.13799857 6.0308104  0.98331219 1.2356871  5.52606058 0.47856237\n",
      " 1.10949964]\n",
      "proportion=0.5, degree=12, Training RMSE=0.205, Testing RMSE=1.379\n",
      "[5.14749821 2.6237491  5.02131076 0.1        5.65224803]\n",
      "proportion=0.1, degree=1, Training RMSE=0.428, Testing RMSE=0.534\n",
      "[5.14749821 2.6237491  5.02131076 0.1        5.65224803]\n",
      "proportion=0.1, degree=3, Training RMSE=0.085, Testing RMSE=0.460\n",
      "[5.14749821 2.6237491  5.02131076 0.1        5.65224803]\n",
      "proportion=0.1, degree=7, Training RMSE=0.000, Testing RMSE=2.254\n",
      "[5.14749821 2.6237491  5.02131076 0.1        5.65224803]\n",
      "proportion=0.1, degree=12, Training RMSE=0.000, Testing RMSE=4.651\n"
     ]
    }
   ],
   "source": [
    "seed = 6\n",
    "degrees = [1, 3, 7, 12]\n",
    "split_ratios = [0.9, 0.5, 0.1]\n",
    "\n",
    "for split_ratio in split_ratios:\n",
    "    for degree in degrees:\n",
    "        train_test_split_demo(x, y, degree, split_ratio, seed)"
   ]
  },
  {
   "cell_type": "markdown",
   "metadata": {},
   "source": [
    "# Ridge Regression\n",
    "Please fill in the function below."
   ]
  },
  {
   "cell_type": "code",
   "execution_count": 73,
   "metadata": {},
   "outputs": [],
   "source": [
    "def ridge_regression(y, tx, lambda_):\n",
    "    \"\"\"implement ridge regression.\"\"\"\n",
    "    aI = 2 * tx.shape[0] * lambda_ * np.identity(tx.shape[1])\n",
    "    a = tx.T.dot(tx) + aI\n",
    "    b = tx.T.dot(y)\n",
    "    return np.linalg.solve(a, b)"
   ]
  },
  {
   "cell_type": "code",
   "execution_count": 74,
   "metadata": {},
   "outputs": [],
   "source": [
    "def ridge_regression_demo(x, y, degree, ratio, seed):\n",
    "    \"\"\"ridge regression demo.\"\"\"\n",
    "    # define parameter\n",
    "    lambdas = np.logspace(-5, 0, 15)\n",
    "    # split data\n",
    "    x_tr, x_te, y_tr, y_te = split_data(x, y, ratio, seed)\n",
    "    # form tx\n",
    "    tx_tr = build_poly(x_tr, degree)\n",
    "    tx_te = build_poly(x_te, degree)\n",
    "\n",
    "    # ridge regression with different lambda\n",
    "    rmse_tr = []\n",
    "    rmse_te = []\n",
    "    for ind, lambda_ in enumerate(lambdas):\n",
    "        # ridge regression\n",
    "        weight = ridge_regression(y_tr, tx_tr, lambda_)\n",
    "        rmse_tr.append(np.sqrt(2 * compute_mse(y_tr, tx_tr, weight)))\n",
    "        rmse_te.append(np.sqrt(2 * compute_mse(y_te, tx_te, weight)))\n",
    "\n",
    "        print(\"proportion={p}, degree={d}, lambda={l:.3f}, Training RMSE={tr:.3f}, Testing RMSE={te:.3f}\".format(\n",
    "               p=ratio, d=degree, l=lambda_, tr=rmse_tr[ind], te=rmse_te[ind]))\n",
    "    plot_train_test(rmse_tr, rmse_te, lambdas, degree)"
   ]
  },
  {
   "cell_type": "markdown",
   "metadata": {
    "collapsed": true
   },
   "source": [
    "Demo time"
   ]
  },
  {
   "cell_type": "code",
   "execution_count": 75,
   "metadata": {},
   "outputs": [
    {
     "name": "stdout",
     "output_type": "stream",
     "text": [
      "proportion=0.5, degree=7, lambda=0.000, Training RMSE=0.227, Testing RMSE=0.338\n",
      "proportion=0.5, degree=7, lambda=0.000, Training RMSE=0.227, Testing RMSE=0.337\n",
      "proportion=0.5, degree=7, lambda=0.000, Training RMSE=0.227, Testing RMSE=0.336\n",
      "proportion=0.5, degree=7, lambda=0.000, Training RMSE=0.227, Testing RMSE=0.335\n",
      "proportion=0.5, degree=7, lambda=0.000, Training RMSE=0.228, Testing RMSE=0.334\n",
      "proportion=0.5, degree=7, lambda=0.001, Training RMSE=0.228, Testing RMSE=0.333\n",
      "proportion=0.5, degree=7, lambda=0.001, Training RMSE=0.229, Testing RMSE=0.329\n",
      "proportion=0.5, degree=7, lambda=0.003, Training RMSE=0.230, Testing RMSE=0.319\n",
      "proportion=0.5, degree=7, lambda=0.007, Training RMSE=0.232, Testing RMSE=0.302\n",
      "proportion=0.5, degree=7, lambda=0.016, Training RMSE=0.237, Testing RMSE=0.283\n",
      "proportion=0.5, degree=7, lambda=0.037, Training RMSE=0.246, Testing RMSE=0.276\n",
      "proportion=0.5, degree=7, lambda=0.085, Training RMSE=0.264, Testing RMSE=0.298\n",
      "proportion=0.5, degree=7, lambda=0.193, Training RMSE=0.291, Testing RMSE=0.348\n",
      "proportion=0.5, degree=7, lambda=0.439, Training RMSE=0.317, Testing RMSE=0.401\n",
      "proportion=0.5, degree=7, lambda=1.000, Training RMSE=0.336, Testing RMSE=0.441\n"
     ]
    },
    {
     "data": {
      "image/png": "[encoded data removed]",
      "text/plain": [
       "<Figure size 432x288 with 1 Axes>"
      ]
     },
     "metadata": {},
     "output_type": "display_data"
    }
   ],
   "source": [
    "seed = 56\n",
    "degree = 7\n",
    "split_ratio = 0.5\n",
    "ridge_regression_demo(x, y, degree, split_ratio, seed)"
   ]
  },
  {
   "cell_type": "code",
   "execution_count": null,
   "metadata": {
    "collapsed": true
   },
   "outputs": [],
   "source": []
  }
 ],
 "metadata": {
  "anaconda-cloud": {},
  "kernelspec": {
   "display_name": "Python 3",
   "language": "python",
   "name": "python3"
  },
  "language_info": {
   "codemirror_mode": {
    "name": "ipython",
    "version": 3
   },
   "file_extension": ".py",
   "mimetype": "text/x-python",
   "name": "python",
   "nbconvert_exporter": "python",
   "pygments_lexer": "ipython3",
   "version": "3.6.5"
  }
 },
 "nbformat": 4,
 "nbformat_minor": 1
}
