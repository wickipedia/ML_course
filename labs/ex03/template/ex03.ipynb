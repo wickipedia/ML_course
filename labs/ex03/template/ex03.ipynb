{
 "cells": [
  {
   "cell_type": "code",
   "execution_count": 2,
   "metadata": {},
   "outputs": [],
   "source": [
    "# Useful starting lines\n",
    "%matplotlib inline\n",
    "import numpy as np\n",
    "import matplotlib.pyplot as plt\n",
    "%load_ext autoreload\n",
    "%autoreload 2"
   ]
  },
  {
   "cell_type": "markdown",
   "metadata": {},
   "source": [
    "# 1 Least squares and linear basis functions models\n",
    "## 1.1 Least squares"
   ]
  },
  {
   "cell_type": "code",
   "execution_count": 29,
   "metadata": {},
   "outputs": [],
   "source": [
    "def least_squares(y, tx):\n",
    "    \"\"\"calculate the least squares solution.\"\"\"\n",
    "    # ***************************************************\n",
    "    # INSERT YOUR CODE HERE\n",
    "    # least squares: TODO\n",
    "    # returns mse, and optimal weights\n",
    "    # ***************************************************\n",
    "    #return np.linalg.lstsq(np.transpose(tx).dot(tx), np.transpose(tx).dot(y),rcond=None)[0]\n",
    "    return np.linalg.solve(np.transpose(tx).dot(tx), np.transpose(tx).dot(y))\n",
    " \n",
    "\n",
    "    "
   ]
  },
  {
   "cell_type": "markdown",
   "metadata": {},
   "source": [
    "### Load the data\n",
    "Here we will reuse the dataset `height_weight_genders.csv` from previous exercise section to check the correctness of your implementation. Please compare it with your previous result."
   ]
  },
  {
   "cell_type": "code",
   "execution_count": 4,
   "metadata": {},
   "outputs": [],
   "source": [
    "from helpers import *\n",
    "def test_your_least_squares():\n",
    "    height, weight, gender = load_data_from_ex02(sub_sample=False, add_outlier=False)\n",
    "    x, mean_x, std_x = standardize(height)\n",
    "    y, tx = build_model_data(x, weight)\n",
    "    # ***************************************************\n",
    "    # INSERT YOUR CODE HERE\n",
    "    # least square or grid search: TODO\n",
    "    # this code should compare the optimal weights obtained \n",
    "    # by least squares vs. grid search\n",
    "    # ***************************************************\n",
    "    return least_squares(y,tx)"
   ]
  },
  {
   "cell_type": "markdown",
   "metadata": {},
   "source": [
    "Test it here"
   ]
  },
  {
   "cell_type": "code",
   "execution_count": 43,
   "metadata": {},
   "outputs": [
    {
     "data": {
      "text/plain": [
       "array([73.293922  , 13.47971243])"
      ]
     },
     "execution_count": 43,
     "metadata": {},
     "output_type": "execute_result"
    }
   ],
   "source": [
    "test_your_least_squares()"
   ]
  },
  {
   "cell_type": "markdown",
   "metadata": {},
   "source": [
    "## 1.2 Least squares with a linear basis function model\n",
    "Start from this section, we will use the dataset `dataEx3.csv`.\n",
    "\n",
    "### Implement polynomial basis functions"
   ]
  },
  {
   "cell_type": "code",
   "execution_count": 5,
   "metadata": {
    "scrolled": true
   },
   "outputs": [
    {
     "name": "stdout",
     "output_type": "stream",
     "text": [
      "shape of x (50,)\n",
      "shape of y (50,)\n"
     ]
    }
   ],
   "source": [
    "# load dataset\n",
    "x, y = load_data()\n",
    "print(\"shape of x {}\".format(x.shape))\n",
    "print(\"shape of y {}\".format(y.shape))"
   ]
  },
  {
   "cell_type": "code",
   "execution_count": 26,
   "metadata": {},
   "outputs": [],
   "source": [
    "def build_poly(x, degree):\n",
    "    \"\"\"polynomial basis functions for input data x, for j=0 up to j=degree.\"\"\"\n",
    "    poly=np.array([])\n",
    "    poly.shape=(len(x), 0)\n",
    "    for deg in range(0, degree+1):\n",
    "        poly = np.c_[poly, np.power(x,deg)]\n",
    "    return poly"
   ]
  },
  {
   "cell_type": "code",
   "execution_count": 25,
   "metadata": {},
   "outputs": [
    {
     "data": {
      "text/plain": [
       "array([[1.00000000e+00, 3.52374910e-01, 1.24168077e-01, 4.37537150e-02,\n",
       "        1.54177114e-02, 5.43281467e-03],\n",
       "       [1.00000000e+00, 4.89512330e+00, 2.39622321e+01, 1.17298081e+02,\n",
       "        5.74188568e+02, 2.81072384e+03],\n",
       "       [1.00000000e+00, 1.86662437e+00, 3.48428655e+00, 6.50385420e+00,\n",
       "        1.21402528e+01, 2.26612917e+01],\n",
       "       [1.00000000e+00, 3.50706129e+00, 1.22994789e+01, 4.31350264e+01,\n",
       "        1.51277181e+02, 5.30538347e+02],\n",
       "       [1.00000000e+00, 3.38087384e+00, 1.14303079e+01, 3.86444289e+01,\n",
       "        1.30651939e+02, 4.41717721e+02],\n",
       "       [1.00000000e+00, 7.30937276e-01, 5.34269301e-01, 3.90517348e-01,\n",
       "        2.85443686e-01, 2.08641431e-01],\n",
       "       [1.00000000e+00, 3.88562366e+00, 1.50980712e+01, 5.86654226e+01,\n",
       "        2.27951754e+02, 8.85734728e+02],\n",
       "       [1.00000000e+00, 5.65224803e+00, 3.19479078e+01, 1.80577499e+02,\n",
       "        1.02066881e+03, 5.76907329e+03],\n",
       "       [1.00000000e+00, 6.28318531e+00, 3.94784176e+01, 2.48050213e+02,\n",
       "        1.55854546e+03, 9.79262991e+03],\n",
       "       [1.00000000e+00, 2.37137419e+00, 5.62341557e+00, 1.33352226e+01,\n",
       "        3.16228027e+01, 7.49894981e+01],\n",
       "       [1.00000000e+00, 6.04749821e-01, 3.65722346e-01, 2.21170523e-01,\n",
       "        1.33752834e-01, 8.08870026e-02],\n",
       "       [1.00000000e+00, 3.63324875e+00, 1.32004965e+01, 4.79606872e+01,\n",
       "        1.74253107e+02, 6.33104882e+02],\n",
       "       [1.00000000e+00, 8.57124731e-01, 7.34662804e-01, 6.29697659e-01,\n",
       "        5.39729436e-01, 4.62615448e-01],\n",
       "       [1.00000000e+00, 2.49756165e+00, 6.23781420e+00, 1.55793255e+01,\n",
       "        3.89103259e+01, 9.71809379e+01],\n",
       "       [1.00000000e+00, 1.61424946e+00, 2.60580133e+00, 4.20641340e+00,\n",
       "        6.79020057e+00, 1.09610776e+01],\n",
       "       [1.00000000e+00, 5.39987312e+00, 2.91586297e+01, 1.57452901e+02,\n",
       "        8.50225687e+02, 4.59111083e+03],\n",
       "       [1.00000000e+00, 6.15699785e+00, 3.79086225e+01, 2.33403308e+02,\n",
       "        1.43706366e+03, 8.84799789e+03],\n",
       "       [1.00000000e+00, 6.03081040e+00, 3.63706740e+01, 2.19344639e+02,\n",
       "        1.32282593e+03, 7.97771237e+03],\n",
       "       [1.00000000e+00, 4.78562366e-01, 2.29021938e-01, 1.09601281e-01,\n",
       "        5.24510482e-02, 2.51010977e-02],\n",
       "       [1.00000000e+00, 2.87612401e+00, 8.27208935e+00, 2.37915548e+01,\n",
       "        6.84274622e+01, 1.96805867e+02],\n",
       "       [1.00000000e+00, 4.51656093e+00, 2.03993227e+01, 9.21347839e+01,\n",
       "        4.16132365e+02, 1.87948719e+03],\n",
       "       [1.00000000e+00, 9.83312187e-01, 9.66902857e-01, 9.50767363e-01,\n",
       "        9.34901135e-01, 9.19299680e-01],\n",
       "       [1.00000000e+00, 1.10949964e+00, 1.23098946e+00, 1.36578236e+00,\n",
       "        1.51533504e+00, 1.68126368e+00],\n",
       "       [1.00000000e+00, 1.00000000e-01, 1.00000000e-02, 1.00000000e-03,\n",
       "        1.00000000e-04, 1.00000000e-05],\n",
       "       [1.00000000e+00, 2.11899928e+00, 4.49015797e+00, 9.51464151e+00,\n",
       "        2.01615186e+01, 4.27222434e+01],\n",
       "       [1.00000000e+00, 1.36187455e+00, 1.85470230e+00, 2.52587186e+00,\n",
       "        3.43992060e+00, 4.68474033e+00],\n",
       "       [1.00000000e+00, 4.01181111e+00, 1.60946284e+01, 6.45686091e+01,\n",
       "        2.59037064e+02, 1.03920777e+03],\n",
       "       [1.00000000e+00, 5.77843549e+00, 3.33903167e+01, 1.92943791e+02,\n",
       "        1.11491325e+03, 6.44245427e+03],\n",
       "       [1.00000000e+00, 4.26418602e+00, 1.81832824e+01, 7.75368988e+01,\n",
       "        3.30631760e+02, 1.40987533e+03],\n",
       "       [1.00000000e+00, 1.23568710e+00, 1.52692260e+00, 1.88679856e+00,\n",
       "        2.33149263e+00, 2.88099536e+00],\n",
       "       [1.00000000e+00, 2.24518674e+00, 5.04086349e+00, 1.13176799e+01,\n",
       "        2.54103048e+01, 5.70508793e+01],\n",
       "       [1.00000000e+00, 1.99281183e+00, 3.97129899e+00, 7.91405160e+00,\n",
       "        1.57712156e+01, 3.14290651e+01],\n",
       "       [1.00000000e+00, 1.48806201e+00, 2.21432854e+00, 3.29505817e+00,\n",
       "        4.90325088e+00, 7.29634135e+00],\n",
       "       [1.00000000e+00, 4.64274839e+00, 2.15551126e+01, 1.00074964e+02,\n",
       "        4.64622879e+02, 2.15712712e+03],\n",
       "       [1.00000000e+00, 4.39037348e+00, 1.92753793e+01, 8.46261140e+01,\n",
       "        3.71540246e+02, 1.63120044e+03],\n",
       "       [1.00000000e+00, 3.00231147e+00, 9.01387417e+00, 2.70624578e+01,\n",
       "        8.12499275e+01, 2.43937589e+02],\n",
       "       [1.00000000e+00, 2.26187455e-01, 5.11607648e-02, 1.15719232e-02,\n",
       "        2.61742385e-03, 5.92028440e-04],\n",
       "       [1.00000000e+00, 5.27368567e+00, 2.78117605e+01, 1.46670483e+02,\n",
       "        7.73494022e+02, 4.07916433e+03],\n",
       "       [1.00000000e+00, 5.02131076e+00, 2.52135617e+01, 1.26605129e+02,\n",
       "        6.35723694e+02, 3.19216622e+03],\n",
       "       [1.00000000e+00, 5.52606058e+00, 3.05373455e+01, 1.68751221e+02,\n",
       "        9.32529470e+02, 5.15321434e+03],\n",
       "       [1.00000000e+00, 2.62374910e+00, 6.88405937e+00, 1.80620446e+01,\n",
       "        4.73902734e+01, 1.24340187e+02],\n",
       "       [1.00000000e+00, 4.76893584e+00, 2.27427491e+01, 1.08458711e+02,\n",
       "        5.17232636e+02, 2.46664926e+03],\n",
       "       [1.00000000e+00, 3.12849893e+00, 9.78750553e+00, 3.06202005e+01,\n",
       "        9.57952645e+01, 2.99695382e+02],\n",
       "       [1.00000000e+00, 1.74043692e+00, 3.02912067e+00, 5.27199344e+00,\n",
       "        9.17557201e+00, 1.59695043e+01],\n",
       "       [1.00000000e+00, 3.75943620e+00, 1.41333606e+01, 5.31334673e+01,\n",
       "        1.99751881e+02, 7.50954451e+02],\n",
       "       [1.00000000e+00, 3.25468638e+00, 1.05929834e+01, 3.44768389e+01,\n",
       "        1.12211298e+02, 3.65212584e+02],\n",
       "       [1.00000000e+00, 5.90462294e+00, 3.48645721e+01, 2.05862152e+02,\n",
       "        1.21553839e+03, 7.17729584e+03],\n",
       "       [1.00000000e+00, 4.13799857e+00, 1.71230321e+01, 7.08550825e+01,\n",
       "        2.93198230e+02, 1.21325386e+03],\n",
       "       [1.00000000e+00, 2.74993656e+00, 7.56215108e+00, 2.07954357e+01,\n",
       "        5.71861290e+01, 1.57258227e+02],\n",
       "       [1.00000000e+00, 5.14749821e+00, 2.64967378e+01, 1.36391911e+02,\n",
       "        7.02077115e+02, 3.61394069e+03]])"
      ]
     },
     "execution_count": 25,
     "metadata": {},
     "output_type": "execute_result"
    }
   ],
   "source": [
    "build_poly(x,5)"
   ]
  },
  {
   "cell_type": "markdown",
   "metadata": {},
   "source": [
    "Let us play with polynomial regression. Note that we will use your implemented function `compute_mse`. Please copy and paste your implementation from exercise02."
   ]
  },
  {
   "cell_type": "code",
   "execution_count": 30,
   "metadata": {},
   "outputs": [],
   "source": [
    "from plots import *\n",
    "from costs import compute_mse\n",
    "\n",
    "def polynomial_regression(x,y):\n",
    "    \"\"\"Constructing the polynomial basis function expansion of the data,\n",
    "       and then running least squares regression.\"\"\"\n",
    "    # define parameters\n",
    "    degrees = [1, 3, 7, 12]\n",
    "    \n",
    "    # define the structure of the figure\n",
    "    num_row = 2\n",
    "    num_col = 2\n",
    "    f, axs = plt.subplots(num_row, num_col)\n",
    "    \n",
    "    for ind, degree in enumerate(degrees):\n",
    "        # ***************************************************\n",
    "        # INSERT YOUR CODE HERE\n",
    "        # form the data to do polynomial regression.: TODO\n",
    "        # ***************************************************\n",
    "        tx=build_poly(x, degree)\n",
    "        # ***************************************************\n",
    "        # INSERT YOUR CODE HERE\n",
    "        # least square and calculate RMSE: TODO\n",
    "        # ***************************************************\n",
    "        weights=least_squares(y,tx)\n",
    "        rmse=np.sqrt(2*compute_mse(y-tx.dot(weights)))\n",
    "        \n",
    "        print(\"Processing {i}th experiment, degree={d}, rmse={loss}\".format(\n",
    "              i=ind + 1, d=degree, loss=rmse))\n",
    "        # plot fit\n",
    "        plot_fitted_curve(\n",
    "            y, x, weights, degree, axs[ind // num_col][ind % num_col])\n",
    "    plt.tight_layout()\n",
    "    plt.savefig(\"visualize_polynomial_regression\")\n",
    "    plt.show()"
   ]
  },
  {
   "cell_type": "markdown",
   "metadata": {},
   "source": [
    "Run polynomial regression"
   ]
  },
  {
   "cell_type": "code",
   "execution_count": 31,
   "metadata": {},
   "outputs": [
    {
     "ename": "TypeError",
     "evalue": "compute_mse() missing 2 required positional arguments: 'tx' and 'w'",
     "output_type": "error",
     "traceback": [
      "\u001b[0;31m---------------------------------------------------------------------------\u001b[0m",
      "\u001b[0;31mTypeError\u001b[0m                                 Traceback (most recent call last)",
      "\u001b[0;32m<ipython-input-31-ace53461c40f>\u001b[0m in \u001b[0;36m<module>\u001b[0;34m()\u001b[0m\n\u001b[0;32m----> 1\u001b[0;31m \u001b[0mpolynomial_regression\u001b[0m\u001b[0;34m(\u001b[0m\u001b[0mx\u001b[0m\u001b[0;34m,\u001b[0m\u001b[0my\u001b[0m\u001b[0;34m)\u001b[0m\u001b[0;34m\u001b[0m\u001b[0m\n\u001b[0m",
      "\u001b[0;32m<ipython-input-30-215c024336d7>\u001b[0m in \u001b[0;36mpolynomial_regression\u001b[0;34m(x, y)\u001b[0m\n\u001b[1;32m     24\u001b[0m         \u001b[0;31m# ***************************************************\u001b[0m\u001b[0;34m\u001b[0m\u001b[0;34m\u001b[0m\u001b[0m\n\u001b[1;32m     25\u001b[0m         \u001b[0mweights\u001b[0m\u001b[0;34m=\u001b[0m\u001b[0mleast_squares\u001b[0m\u001b[0;34m(\u001b[0m\u001b[0my\u001b[0m\u001b[0;34m,\u001b[0m\u001b[0mtx\u001b[0m\u001b[0;34m)\u001b[0m\u001b[0;34m\u001b[0m\u001b[0m\n\u001b[0;32m---> 26\u001b[0;31m         \u001b[0mrmse\u001b[0m\u001b[0;34m=\u001b[0m\u001b[0mnp\u001b[0m\u001b[0;34m.\u001b[0m\u001b[0msqrt\u001b[0m\u001b[0;34m(\u001b[0m\u001b[0;36m2\u001b[0m\u001b[0;34m*\u001b[0m\u001b[0mcompute_mse\u001b[0m\u001b[0;34m(\u001b[0m\u001b[0my\u001b[0m\u001b[0;34m-\u001b[0m\u001b[0mtx\u001b[0m\u001b[0;34m.\u001b[0m\u001b[0mdot\u001b[0m\u001b[0;34m(\u001b[0m\u001b[0mweights\u001b[0m\u001b[0;34m)\u001b[0m\u001b[0;34m)\u001b[0m\u001b[0;34m)\u001b[0m\u001b[0;34m\u001b[0m\u001b[0m\n\u001b[0m\u001b[1;32m     27\u001b[0m \u001b[0;34m\u001b[0m\u001b[0m\n\u001b[1;32m     28\u001b[0m         print(\"Processing {i}th experiment, degree={d}, rmse={loss}\".format(\n",
      "\u001b[0;31mTypeError\u001b[0m: compute_mse() missing 2 required positional arguments: 'tx' and 'w'"
     ]
    },
    {
     "data": {
      "image/png": "[encoded data removed]",
      "text/plain": [
       "<Figure size 432x288 with 4 Axes>"
      ]
     },
     "metadata": {},
     "output_type": "display_data"
    }
   ],
   "source": [
    "polynomial_regression(x,y)"
   ]
  },
  {
   "cell_type": "markdown",
   "metadata": {},
   "source": [
    "# 2 Evaluating model predication performance\n",
    "\n",
    "\n",
    "Let us show the train and test splits for various polynomial degrees. First of all, please fill in the function `split_data()`"
   ]
  },
  {
   "cell_type": "code",
   "execution_count": 359,
   "metadata": {},
   "outputs": [],
   "source": [
    "def split_data(x, y, ratio, seed=1):\n",
    "    \"\"\"\n",
    "    split the dataset based on the split ratio. If ratio is 0.8 \n",
    "    you will have 80% of your data set dedicated to training \n",
    "    and the rest dedicated to testing\n",
    "    \n",
    "    # set seed\n",
    "    np.random.seed(seed)\n",
    "    # ***************************************************\n",
    "    # INSERT YOUR CODE HERE\n",
    "    # split the data based on the given ratio: TODO\n",
    "    # ***************************************************\n",
    "    n=x.shape[0]\n",
    "    indices = np.random.permutation(n)\n",
    "    training_idx, test_idx = indices[:int(n*ratio)], indices[int(n*ratio):]\n",
    "    x_training, x_test = x[training_idx], x[test_idx]\n",
    "    y_training, y_test = y[training_idx], y[test_idx]\n",
    "    \n",
    "    return x_training, x_test, y_training, y_test\n",
    "    \"\"\"\n",
    "    # set seed\n",
    "    np.random.seed(seed)\n",
    "    # generate random indices\n",
    "    num_row = len(y)\n",
    "    indices = np.random.permutation(num_row)\n",
    "    index_split = int(np.floor(ratio * num_row))\n",
    "    index_tr = indices[: index_split]\n",
    "    index_te = indices[index_split:]\n",
    "    # create split\n",
    "    x_tr = x[index_tr]\n",
    "    x_te = x[index_te]\n",
    "    y_tr = y[index_tr]\n",
    "    y_te = y[index_te]\n",
    "    return x_tr, x_te, y_tr, y_te\n"
   ]
  },
  {
   "cell_type": "markdown",
   "metadata": {},
   "source": [
    "Then, test your `split_data` function below."
   ]
  },
  {
   "cell_type": "code",
   "execution_count": 363,
   "metadata": {},
   "outputs": [],
   "source": [
    "def train_test_split_demo(x, y, degree, ratio, seed):\n",
    "    \"\"\"polynomial regression with different split ratios and different degrees.\"\"\"\n",
    "    # ***************************************************\n",
    "    # INSERT YOUR CODE HERE\n",
    "    # split the data, and return train and test data: TODO\n",
    "    # ***************************************************\n",
    "    xtr,xte,ytr,yte = split_data(x,y,ratio)\n",
    "    # ***************************************************\n",
    "    # INSERT YOUR CODE HERE\n",
    "    # form train and test data with polynomial basis function: TODO\n",
    "    # ***************************************************\n",
    "    phitr=build_poly(xtr,degree)\n",
    "    phite=build_poly(xte,degree)\n",
    "    \n",
    "    print(xtr)\n",
    "\n",
    "    weights=least_squares(ytr,phitr)\n",
    "\n",
    "   \n",
    "    rmse_tr=np.sqrt(2*compute_mse(ytr,phitr,weights))\n",
    "    rmse_te=np.sqrt(2*compute_mse(yte,phite,weights))\n",
    "    \n",
    "    \n",
    "    print(\"proportion={p}, degree={d}, Training RMSE={tr:.3f}, Testing RMSE={te:.3f}\".format(\n",
    "          p=ratio, d=degree, tr=rmse_tr, te=rmse_te))\n"
   ]
  },
  {
   "cell_type": "code",
   "execution_count": 364,
   "metadata": {},
   "outputs": [
    {
     "name": "stdout",
     "output_type": "stream",
     "text": [
      "[5.77843549 3.00231147 2.6237491  5.02131076 1.86662437 3.50706129\n",
      " 2.74993656 1.2356871  5.90462294 1.99281183 1.48806201 5.52606058\n",
      " 0.98331219 0.22618746 2.87612401 3.12849893 5.14749821 4.01181111\n",
      " 1.10949964 2.49756165 4.76893584 6.0308104  3.25468638 2.11899928\n",
      " 0.1        3.38087384 4.64274839 1.61424946 2.24518674 0.60474982\n",
      " 4.26418602 3.7594362  4.39037348 0.47856237 4.51656093 1.36187455\n",
      " 3.88562366 5.65224803 4.13799857 4.8951233  6.15699785 0.35237491\n",
      " 5.39987312 0.73093728 3.63324875]\n",
      "proportion=0.9, degree=1, Training RMSE=0.455, Testing RMSE=0.621\n",
      "[5.77843549 3.00231147 2.6237491  5.02131076 1.86662437 3.50706129\n",
      " 2.74993656 1.2356871  5.90462294 1.99281183 1.48806201 5.52606058\n",
      " 0.98331219 0.22618746 2.87612401 3.12849893 5.14749821 4.01181111\n",
      " 1.10949964 2.49756165 4.76893584 6.0308104  3.25468638 2.11899928\n",
      " 0.1        3.38087384 4.64274839 1.61424946 2.24518674 0.60474982\n",
      " 4.26418602 3.7594362  4.39037348 0.47856237 4.51656093 1.36187455\n",
      " 3.88562366 5.65224803 4.13799857 4.8951233  6.15699785 0.35237491\n",
      " 5.39987312 0.73093728 3.63324875]\n",
      "proportion=0.9, degree=3, Training RMSE=0.264, Testing RMSE=0.214\n",
      "[5.77843549 3.00231147 2.6237491  5.02131076 1.86662437 3.50706129\n",
      " 2.74993656 1.2356871  5.90462294 1.99281183 1.48806201 5.52606058\n",
      " 0.98331219 0.22618746 2.87612401 3.12849893 5.14749821 4.01181111\n",
      " 1.10949964 2.49756165 4.76893584 6.0308104  3.25468638 2.11899928\n",
      " 0.1        3.38087384 4.64274839 1.61424946 2.24518674 0.60474982\n",
      " 4.26418602 3.7594362  4.39037348 0.47856237 4.51656093 1.36187455\n",
      " 3.88562366 5.65224803 4.13799857 4.8951233  6.15699785 0.35237491\n",
      " 5.39987312 0.73093728 3.63324875]\n",
      "proportion=0.9, degree=7, Training RMSE=0.257, Testing RMSE=0.189\n",
      "[5.77843549 3.00231147 2.6237491  5.02131076 1.86662437 3.50706129\n",
      " 2.74993656 1.2356871  5.90462294 1.99281183 1.48806201 5.52606058\n",
      " 0.98331219 0.22618746 2.87612401 3.12849893 5.14749821 4.01181111\n",
      " 1.10949964 2.49756165 4.76893584 6.0308104  3.25468638 2.11899928\n",
      " 0.1        3.38087384 4.64274839 1.61424946 2.24518674 0.60474982\n",
      " 4.26418602 3.7594362  4.39037348 0.47856237 4.51656093 1.36187455\n",
      " 3.88562366 5.65224803 4.13799857 4.8951233  6.15699785 0.35237491\n",
      " 5.39987312 0.73093728 3.63324875]\n",
      "proportion=0.9, degree=12, Training RMSE=0.246, Testing RMSE=0.389\n",
      "[5.77843549 3.00231147 2.6237491  5.02131076 1.86662437 3.50706129\n",
      " 2.74993656 1.2356871  5.90462294 1.99281183 1.48806201 5.52606058\n",
      " 0.98331219 0.22618746 2.87612401 3.12849893 5.14749821 4.01181111\n",
      " 1.10949964 2.49756165 4.76893584 6.0308104  3.25468638 2.11899928\n",
      " 0.1       ]\n",
      "proportion=0.5, degree=1, Training RMSE=0.400, Testing RMSE=0.553\n",
      "[5.77843549 3.00231147 2.6237491  5.02131076 1.86662437 3.50706129\n",
      " 2.74993656 1.2356871  5.90462294 1.99281183 1.48806201 5.52606058\n",
      " 0.98331219 0.22618746 2.87612401 3.12849893 5.14749821 4.01181111\n",
      " 1.10949964 2.49756165 4.76893584 6.0308104  3.25468638 2.11899928\n",
      " 0.1       ]\n",
      "proportion=0.5, degree=3, Training RMSE=0.237, Testing RMSE=0.306\n",
      "[5.77843549 3.00231147 2.6237491  5.02131076 1.86662437 3.50706129\n",
      " 2.74993656 1.2356871  5.90462294 1.99281183 1.48806201 5.52606058\n",
      " 0.98331219 0.22618746 2.87612401 3.12849893 5.14749821 4.01181111\n",
      " 1.10949964 2.49756165 4.76893584 6.0308104  3.25468638 2.11899928\n",
      " 0.1       ]\n",
      "proportion=0.5, degree=7, Training RMSE=0.218, Testing RMSE=0.336\n",
      "[5.77843549 3.00231147 2.6237491  5.02131076 1.86662437 3.50706129\n",
      " 2.74993656 1.2356871  5.90462294 1.99281183 1.48806201 5.52606058\n",
      " 0.98331219 0.22618746 2.87612401 3.12849893 5.14749821 4.01181111\n",
      " 1.10949964 2.49756165 4.76893584 6.0308104  3.25468638 2.11899928\n",
      " 0.1       ]\n",
      "proportion=0.5, degree=12, Training RMSE=0.216, Testing RMSE=0.418\n",
      "[5.77843549 3.00231147 2.6237491  5.02131076 1.86662437]\n",
      "proportion=0.1, degree=1, Training RMSE=0.453, Testing RMSE=0.748\n",
      "[5.77843549 3.00231147 2.6237491  5.02131076 1.86662437]\n",
      "proportion=0.1, degree=3, Training RMSE=0.111, Testing RMSE=0.674\n",
      "[5.77843549 3.00231147 2.6237491  5.02131076 1.86662437]\n",
      "proportion=0.1, degree=7, Training RMSE=0.000, Testing RMSE=1.335\n",
      "[5.77843549 3.00231147 2.6237491  5.02131076 1.86662437]\n",
      "proportion=0.1, degree=12, Training RMSE=0.000, Testing RMSE=2.911\n"
     ]
    }
   ],
   "source": [
    "seed = 6\n",
    "degrees = [1, 3, 7, 12]\n",
    "split_ratios = [0.9, 0.5, 0.1]\n",
    "\n",
    "for split_ratio in split_ratios:\n",
    "    for degree in degrees:\n",
    "        train_test_split_demo(x, y, degree, split_ratio, seed)"
   ]
  },
  {
   "cell_type": "markdown",
   "metadata": {},
   "source": [
    "# 3 Ridge Regression\n",
    "Please fill in the function below."
   ]
  },
  {
   "cell_type": "code",
   "execution_count": 330,
   "metadata": {},
   "outputs": [],
   "source": [
    "def ridge_regression(y, tx, lambda_):\n",
    "    \"\"\"implement ridge regression.\"\"\"\n",
    "    # ***************************************************\n",
    "    # INSERT YOUR CODE HERE\n",
    "    # ridge regression: TODO\n",
    "    # ***************************************************\n",
    "    #return np.linalg.lstsq(np.transpose(tx).dot(tx)+lambda_*np.eye(tx.shape[1]), np.transpose(tx).dot(y),rcond=None)[0]\n",
    "    # -*- coding: utf-8 -*-\n",
    "\n",
    "    \n",
    "    \"\"\"implement ridge regression.\"\"\"\n",
    "    aI = lambda_ * np.identity(tx.shape[1])\n",
    "    a = tx.T.dot(tx) + aI\n",
    "    b = tx.T.dot(y)\n",
    "    return np.linalg.solve(a, b)"
   ]
  },
  {
   "cell_type": "code",
   "execution_count": 324,
   "metadata": {},
   "outputs": [
    {
     "ename": "NameError",
     "evalue": "name 'tx' is not defined",
     "output_type": "error",
     "traceback": [
      "\u001b[0;31m---------------------------------------------------------------------------\u001b[0m",
      "\u001b[0;31mNameError\u001b[0m                                 Traceback (most recent call last)",
      "\u001b[0;32m<ipython-input-324-004a99f9a012>\u001b[0m in \u001b[0;36m<module>\u001b[0;34m()\u001b[0m\n\u001b[0;32m----> 1\u001b[0;31m \u001b[0mridge_regression\u001b[0m\u001b[0;34m(\u001b[0m\u001b[0my\u001b[0m\u001b[0;34m,\u001b[0m\u001b[0mtx\u001b[0m\u001b[0;34m,\u001b[0m\u001b[0;36m1\u001b[0m\u001b[0;34m)\u001b[0m\u001b[0;34m\u001b[0m\u001b[0m\n\u001b[0m",
      "\u001b[0;31mNameError\u001b[0m: name 'tx' is not defined"
     ]
    }
   ],
   "source": [
    "ridge_regression(y,tx,1)"
   ]
  },
  {
   "cell_type": "code",
   "execution_count": 333,
   "metadata": {},
   "outputs": [
    {
     "data": {
      "text/plain": [
       "array([73.293922  , 13.47971243])"
      ]
     },
     "execution_count": 333,
     "metadata": {},
     "output_type": "execute_result"
    }
   ],
   "source": [
    "from helpers import *\n",
    "def test_your_least_squares():\n",
    "    height, weight, gender = load_data_from_ex02(sub_sample=False, add_outlier=False)\n",
    "    x, mean_x, std_x = standardize(height)\n",
    "    y, tx = build_model_data(x, weight)\n",
    "    # ***************************************************\n",
    "    # INSERT YOUR CODE HERE\n",
    "    # least square or grid search: TODO\n",
    "    # this code should compare the optimal weights obtained \n",
    "    # by least squares vs. grid search\n",
    "    # ***************************************************\n",
    "    return ridge_regression(y,tx,0)\n",
    "\n",
    "test_your_least_squares()"
   ]
  },
  {
   "cell_type": "code",
   "execution_count": 338,
   "metadata": {},
   "outputs": [],
   "source": [
    "def ridge_regression_demo(x, y, degree, ratio, seed):\n",
    "    \"\"\"ridge regression demo.\"\"\"\n",
    "    # define parameter\n",
    "    lambdas = np.logspace(-5, 0, 15)\n",
    "    # ***************************************************\n",
    "    # INSERT YOUR CODE HERE\n",
    "    # split the data, and return train and test data: TODO\n",
    "    # ***************************************************\n",
    "    xtr,xte,ytr,yte = split_data(x,y,ratio)\n",
    "    # ***************************************************\n",
    "    # INSERT YOUR CODE HERE\n",
    "    # form train and test data with polynomial basis function: TODO\n",
    "    # ***************************************************\n",
    "    phitr=build_poly(xtr,degree)\n",
    "    phite=build_poly(xte,degree)\n",
    "        \n",
    "    rmse_tr = []\n",
    "    rmse_te = []\n",
    "    for ind, lambda_ in enumerate(lambdas):\n",
    "        # ***************************************************\n",
    "        # INSERT YOUR CODE HERE\n",
    "        # ridge regression with a given lambda\n",
    "        # ***************************************************\n",
    "        weights=ridge_regression(ytr,phitr,lambda_)\n",
    "        \n",
    "        rmse_tr.append(np.sqrt(2*compute_mse(ytr,phitr,weights)))\n",
    "        rmse_te.append(np.sqrt(2*compute_mse(yte,phite,weights)))\n",
    "        \n",
    "        \n",
    "        \n",
    "        print(\"proportion={p}, degree={d}, lambda={l:.3f}, Training RMSE={tr:.3f}, Testing RMSE={te:.3f}\".format(\n",
    "               p=ratio, d=degree, l=lambda_, tr=rmse_tr[ind], te=rmse_te[ind]))\n",
    "        \n",
    "    # Plot the obtained results\n",
    "    plot_train_test(rmse_tr, rmse_te, lambdas, degree)\n",
    "\n"
   ]
  },
  {
   "cell_type": "code",
   "execution_count": 339,
   "metadata": {},
   "outputs": [
    {
     "name": "stdout",
     "output_type": "stream",
     "text": [
      "proportion=0.5, degree=7, lambda=0.000, Training RMSE=0.218, Testing RMSE=0.335\n",
      "proportion=0.5, degree=7, lambda=0.000, Training RMSE=0.218, Testing RMSE=0.334\n",
      "proportion=0.5, degree=7, lambda=0.000, Training RMSE=0.219, Testing RMSE=0.331\n",
      "proportion=0.5, degree=7, lambda=0.000, Training RMSE=0.219, Testing RMSE=0.328\n",
      "proportion=0.5, degree=7, lambda=0.000, Training RMSE=0.219, Testing RMSE=0.322\n",
      "proportion=0.5, degree=7, lambda=0.001, Training RMSE=0.221, Testing RMSE=0.319\n",
      "proportion=0.5, degree=7, lambda=0.001, Training RMSE=0.223, Testing RMSE=0.319\n",
      "proportion=0.5, degree=7, lambda=0.003, Training RMSE=0.225, Testing RMSE=0.323\n",
      "proportion=0.5, degree=7, lambda=0.007, Training RMSE=0.226, Testing RMSE=0.326\n",
      "proportion=0.5, degree=7, lambda=0.016, Training RMSE=0.227, Testing RMSE=0.328\n",
      "proportion=0.5, degree=7, lambda=0.037, Training RMSE=0.228, Testing RMSE=0.329\n",
      "proportion=0.5, degree=7, lambda=0.085, Training RMSE=0.228, Testing RMSE=0.329\n",
      "proportion=0.5, degree=7, lambda=0.193, Training RMSE=0.229, Testing RMSE=0.326\n",
      "proportion=0.5, degree=7, lambda=0.439, Training RMSE=0.230, Testing RMSE=0.316\n",
      "proportion=0.5, degree=7, lambda=1.000, Training RMSE=0.233, Testing RMSE=0.297\n"
     ]
    },
    {
     "data": {
      "image/png": "[encoded data removed]",
      "text/plain": [
       "<Figure size 432x288 with 1 Axes>"
      ]
     },
     "metadata": {},
     "output_type": "display_data"
    }
   ],
   "source": [
    "seed = 56\n",
    "degree = 7\n",
    "split_ratio = 0.5\n",
    "ridge_regression_demo(x, y, degree, split_ratio, seed)"
   ]
  },
  {
   "cell_type": "code",
   "execution_count": null,
   "metadata": {},
   "outputs": [],
   "source": []
  }
 ],
 "metadata": {
  "anaconda-cloud": {},
  "kernelspec": {
   "display_name": "Python 3",
   "language": "python",
   "name": "python3"
  },
  "language_info": {
   "codemirror_mode": {
    "name": "ipython",
    "version": 3
   },
   "file_extension": ".py",
   "mimetype": "text/x-python",
   "name": "python",
   "nbconvert_exporter": "python",
   "pygments_lexer": "ipython3",
   "version": "3.6.5"
  }
 },
 "nbformat": 4,
 "nbformat_minor": 1
}
