{
 "cells": [
  {
   "cell_type": "code",
   "execution_count": 3,
   "metadata": {},
   "outputs": [],
   "source": [
    "# Useful starting lines\n",
    "%matplotlib inline\n",
    "import numpy as np\n",
    "import matplotlib.pyplot as plt\n",
    "%load_ext autoreload\n",
    "%autoreload 2"
   ]
  },
  {
   "cell_type": "markdown",
   "metadata": {},
   "source": [
    "# Cross-Validation and Bias-Variance decomposition\n",
    "## Cross-Validation\n",
    "Implementing 4-fold cross-validation below:"
   ]
  },
  {
   "cell_type": "code",
   "execution_count": 2,
   "metadata": {},
   "outputs": [],
   "source": [
    "from helpers import load_data\n",
    "\n",
    "# load dataset\n",
    "x, y = load_data()"
   ]
  },
  {
   "cell_type": "code",
   "execution_count": 26,
   "metadata": {},
   "outputs": [],
   "source": [
    "def build_k_indices(y, k_fold, seed):\n",
    "    \"\"\"build k indices for k-fold.\"\"\"\n",
    "    num_row = y.shape[0]\n",
    "    interval = int(num_row / k_fold)\n",
    "    np.random.seed(seed)\n",
    "    indices = np.random.permutation(num_row)\n",
    "    k_indices = [indices[k * interval: (k + 1) * interval]\n",
    "                 for k in range(k_fold)]\n",
    "    return np.array(k_indices)\n",
    "\n",
    "yt=y[build_k_indices(y,4,1)]"
   ]
  },
  {
   "cell_type": "code",
   "execution_count": 304,
   "metadata": {},
   "outputs": [
    {
     "data": {
      "text/plain": [
       "array([-0.56851939, -0.15050841,  0.66750938, -1.30763072,  1.28930361,\n",
       "       -0.26815701,  0.12187968,  0.99490902, -0.76646743,  0.72778149,\n",
       "        0.77328884, -0.82651893,  0.95121182,  0.25252451, -0.37259529,\n",
       "        0.07691219, -1.04670162, -0.55991146,  0.60599855,  0.03761024,\n",
       "       -0.57230535, -0.30857575,  0.03052242,  0.77707185])"
      ]
     },
     "execution_count": 304,
     "metadata": {},
     "output_type": "execute_result"
    }
   ],
   "source": [
    "yt2=np.concatenate((yt[0,:],yt[1,:]),axis=0)\n",
    "yt2"
   ]
  },
  {
   "cell_type": "code",
   "execution_count": 345,
   "metadata": {},
   "outputs": [],
   "source": [
    "from costs import compute_mse\n",
    "from ridge_regression import ridge_regression\n",
    "from build_polynomial import build_poly\n",
    "\n",
    "def cross_validation(y, x, k_indices, k, lambda_, degree):\n",
    "    \"\"\"return the loss of ridge regression.\"\"\"\n",
    "    # ***************************************************\n",
    "    # INSERT YOUR CODE HERE\n",
    "    # get k'th subgroup in test, others in train: TODO\n",
    "    # ***************************************************\n",
    "    yte=y[k_indices]\n",
    "    xte=x[k_indices]\n",
    "    # ***************************************************\n",
    "    # INSERT YOUR CODE HERE\n",
    "    # form data with polynomial degree: TODO\n",
    "    # ***************************************************\n",
    "    phi=np.array([]).reshape(xte.shape[1]*3,0)\n",
    "    phi2=np.array([]).reshape(xte.shape[1],0)\n",
    "    for i in range(k):\n",
    "        xte_temp=np.concatenate((xte[i%k,:],xte[(i+1)%k,:],xte[(i+2)%k,:]),axis=0)\n",
    "        xte_temp2=xte[(i+3)%4]\n",
    "        phi_temp=build_poly(xte_temp,degree)\n",
    "        phi_temp2=build_poly(xte_temp2,degree)\n",
    "        phi2=np.c_[phi2,phi_temp2]\n",
    "        phi=np.c_[phi,phi_temp]\n",
    "        \n",
    "    # ***************************************************\n",
    "    # INSERT YOUR CODE HERE\n",
    "    # ridge regression: TODO\n",
    "    # ***************************************************    \n",
    "    weigths=np.array([]).reshape(degree+1,0)\n",
    "    for i in range(k):\n",
    "        yte_temp=np.concatenate((yte[i%k,:],yte[(i+1)%k,:],yte[(i+2)%k,:]),axis=0)\n",
    "        weigth=ridge_regression(yte_temp,phi[:,i*(degree+1):(i*(degree+1)+degree+1)],lambda_)\n",
    "        weigth=weigth.reshape(degree+1,1)\n",
    "        weigths=np.c_[weigths, weigth]\n",
    "        \n",
    "    # ***************************************************\n",
    "    # INSERT YOUR CODE vERE\n",
    "    # calculate the loss for train and test data: TODO\n",
    "    # ***************************************************\n",
    "    loss_tr=np.array([])\n",
    "    loss_te=np.array([])\n",
    "    for i in range(k):\n",
    "            ytr_temp=np.concatenate((yte[i%k,:],yte[(i+1)%k,:],yte[(i+2)%k,:]),axis=0)\n",
    "            yte_temp=yte[(i+3)%4]\n",
    "            temp_tr=compute_mse(ytr_temp,phi[:,i*(degree+1):(i*(degree+1)+degree+1)],weigths[:,i])\n",
    "            temp_te=compute_mse(yte_temp,phi2[:,i*(degree+1):(i*(degree+1)+degree+1)],weigths[:,i])\n",
    "\n",
    "            loss_tr=np.append(loss_tr,temp_tr)\n",
    "\n",
    "            loss_te=np.append(loss_te,temp_te)\n",
    "\n",
    "            \n",
    "    \n",
    "    \n",
    "    return np.mean(loss_tr), np.mean(loss_te)"
   ]
  },
  {
   "cell_type": "code",
   "execution_count": 343,
   "metadata": {},
   "outputs": [
    {
     "data": {
      "text/plain": [
       "(0.11911577165668745, 0.13379873772209555)"
      ]
     },
     "execution_count": 343,
     "metadata": {},
     "output_type": "execute_result"
    }
   ],
   "source": [
    "cross_validation(y, x, build_k_indices(y, 4, 3), 4, 3, 2)"
   ]
  },
  {
   "cell_type": "code",
   "execution_count": 349,
   "metadata": {},
   "outputs": [
    {
     "data": {
      "image/png": "[encoded data removed]",
      "text/plain": [
       "<Figure size 432x288 with 1 Axes>"
      ]
     },
     "metadata": {},
     "output_type": "display_data"
    }
   ],
   "source": [
    "from plots import cross_validation_visualization\n",
    "\n",
    "def cross_validation_demo():\n",
    "    seed = 1\n",
    "    degree = 7\n",
    "    k_fold = 5\n",
    "    lambdas = np.logspace(-4, 0, 30)\n",
    "    # split data in k fold\n",
    "    k_indices = build_k_indices(y, k_fold, seed)\n",
    "    # define lists to store the loss of training data and test data\n",
    "    rmse_tr = []\n",
    "    rmse_te = []\n",
    "    # ***************************************************\n",
    "    # INSERT YOUR CODE HERE\n",
    "    # cross validation: TODO\n",
    "    # *************************************************** \n",
    "    for l in lambdas:\n",
    "        tr_temp, te_temp = cross_validation(y, x, build_k_indices(y, k_fold, seed),k_fold, l, degree)\n",
    "        rmse_tr.append(tr_temp)\n",
    "        rmse_te.append(te_temp)\n",
    "    \n",
    "    cross_validation_visualization(lambdas, rmse_tr, rmse_te)\n",
    "\n",
    "cross_validation_demo()"
   ]
  },
  {
   "cell_type": "markdown",
   "metadata": {},
   "source": [
    "## Bias-Variance Decomposition\n",
    "Visualize bias-variance trade-off by implementing the function `bias_variance_demo()` below:"
   ]
  },
  {
   "cell_type": "code",
   "execution_count": null,
   "metadata": {},
   "outputs": [],
   "source": [
    "from least_squares import least_squares\n",
    "from split_data import split_data\n",
    "from plots import bias_variance_decomposition_visualization\n",
    "\n",
    "def bias_variance_demo():\n",
    "    \"\"\"The entry.\"\"\"\n",
    "    # define parameters\n",
    "    seeds = range(100)\n",
    "    num_data = 10000\n",
    "    ratio_train = 0.005\n",
    "    degrees = range(1, 10)\n",
    "    \n",
    "    # define list to store the variable\n",
    "    rmse_tr = np.empty((len(seeds), len(degrees)))\n",
    "    rmse_te = np.empty((len(seeds), len(degrees)))\n",
    "    \n",
    "    for index_seed, seed in enumerate(seeds):\n",
    "        np.random.seed(seed)\n",
    "        x = np.linspace(0.1, 2 * np.pi, num_data)\n",
    "        y = np.sin(x) + 0.3 * np.random.randn(num_data).T\n",
    "        # ***************************************************\n",
    "        # INSERT YOUR CODE HERE\n",
    "        # split data with a specific seed: TODO\n",
    "        # ***************************************************\n",
    "        raise NotImplementedError\n",
    "        # ***************************************************\n",
    "        # INSERT YOUR CODE HERE\n",
    "        # bias_variance_decomposition: TODO\n",
    "        # ***************************************************\n",
    "        raise NotImplementedError\n",
    "\n",
    "    bias_variance_decomposition_visualization(degrees, rmse_tr, rmse_te)\n",
    "\n",
    "bias_variance_demo()"
   ]
  }
 ],
 "metadata": {
  "anaconda-cloud": {},
  "kernelspec": {
   "display_name": "Python 3",
   "language": "python",
   "name": "python3"
  },
  "language_info": {
   "codemirror_mode": {
    "name": "ipython",
    "version": 3
   },
   "file_extension": ".py",
   "mimetype": "text/x-python",
   "name": "python",
   "nbconvert_exporter": "python",
   "pygments_lexer": "ipython3",
   "version": "3.6.5"
  }
 },
 "nbformat": 4,
 "nbformat_minor": 1
}
