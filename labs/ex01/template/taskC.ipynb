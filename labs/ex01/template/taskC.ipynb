{
 "cells": [
  {
   "cell_type": "code",
   "execution_count": 1,
   "metadata": {},
   "outputs": [],
   "source": [
    "%matplotlib inline\n",
    "import numpy as np\n",
    "import matplotlib.pyplot as plt\n",
    "%load_ext autoreload\n",
    "%autoreload 2"
   ]
  },
  {
   "cell_type": "markdown",
   "metadata": {},
   "source": [
    "Data Generation\n",
    "==="
   ]
  },
  {
   "cell_type": "code",
   "execution_count": 2,
   "metadata": {},
   "outputs": [],
   "source": [
    "from numpy.random import rand, randn"
   ]
  },
  {
   "cell_type": "code",
   "execution_count": 3,
   "metadata": {},
   "outputs": [],
   "source": [
    "n, d, k = 100, 2, 2"
   ]
  },
  {
   "cell_type": "code",
   "execution_count": 4,
   "metadata": {},
   "outputs": [
    {
     "name": "stdout",
     "output_type": "stream",
     "text": [
      "[array([0.69872366, 0.75176984]), array([0.25997411, 0.14504062])]\n",
      "[array([[0.01764816, 0.        ],\n",
      "       [0.        , 0.06360523]]), array([[0.01764816, 0.        ],\n",
      "       [0.        , 0.06360523]])]\n"
     ]
    }
   ],
   "source": [
    "np.random.seed(20)\n",
    "X = rand(n, d)\n",
    "\n",
    "# means = [rand(d)  for _ in range(k)]  # works for any k\n",
    "means = [rand(d) * 0.5 + 0.5 , - rand(d)  * 0.5 + 0.5]  # for better plotting when k = 2\n",
    "\n",
    "S = np.diag(rand(d))\n",
    "\n",
    "sigmas = [S]*k # we'll use the same Sigma for all clusters for better visual results\n",
    "\n",
    "print(means)\n",
    "print(sigmas)"
   ]
  },
  {
   "cell_type": "markdown",
   "metadata": {},
   "source": [
    "Solution\n",
    "==="
   ]
  },
  {
   "cell_type": "code",
   "execution_count": 34,
   "metadata": {
    "scrolled": true
   },
   "outputs": [],
   "source": [
    "def compute_log_p(X, mean, sigma):\n",
    "    d=X.shape[1]\n",
    "    k=1/(np.power(2*np.pi,d/2)*np.power(np.linalg.det(sigma),0.5))\n",
    "    e=np.exp(-0.5*((X-mean).dot(np.linalg.inv(sigma)).dot(np.transpose(X-mean))))\n",
    "    p=k*e\n",
    "    print(X)\n",
    "    return(p)    \n",
    "    "
   ]
  },
  {
   "cell_type": "code",
   "execution_count": 35,
   "metadata": {},
   "outputs": [
    {
     "name": "stdout",
     "output_type": "stream",
     "text": [
      "[[0.5881308  0.89771373]\n",
      " [0.89153073 0.81583748]\n",
      " [0.03588959 0.69175758]\n",
      " [0.37868094 0.51851095]\n",
      " [0.65795147 0.19385022]\n",
      " [0.2723164  0.71860593]\n",
      " [0.78300361 0.85032764]\n",
      " [0.77524489 0.03666431]\n",
      " [0.11669374 0.7512807 ]\n",
      " [0.23921822 0.25480601]\n",
      " [0.85762553 0.94977903]\n",
      " [0.56168686 0.17878052]\n",
      " [0.77025193 0.49238104]\n",
      " [0.63125307 0.83949792]\n",
      " [0.4610394  0.49794007]\n",
      " [0.67941112 0.65078591]\n",
      " [0.26879524 0.06732467]\n",
      " [0.77144514 0.48098413]\n",
      " [0.32920641 0.51064106]\n",
      " [0.26362883 0.31051155]\n",
      " [0.62685344 0.55744981]\n",
      " [0.31857956 0.39484322]\n",
      " [0.25797459 0.58224112]\n",
      " [0.16162871 0.59813382]\n",
      " [0.82582358 0.15639172]\n",
      " [0.73430052 0.40864343]\n",
      " [0.7786879  0.80397057]\n",
      " [0.78607144 0.59228702]\n",
      " [0.6644892  0.64656729]\n",
      " [0.42563648 0.51356833]\n",
      " [0.50125784 0.03708381]\n",
      " [0.7081161  0.6204306 ]\n",
      " [0.77780853 0.45940947]\n",
      " [0.37980555 0.2918922 ]\n",
      " [0.55722886 0.0841636 ]\n",
      " [0.63128167 0.94457049]\n",
      " [0.89123753 0.87858258]\n",
      " [0.34475163 0.70310053]\n",
      " [0.5273376  0.65931696]\n",
      " [0.26829063 0.60776708]\n",
      " [0.04815737 0.69550064]\n",
      " [0.29927188 0.16563555]\n",
      " [0.33225194 0.16543775]\n",
      " [0.91463798 0.28402501]\n",
      " [0.10760726 0.11700177]\n",
      " [0.7555236  0.83889446]\n",
      " [0.03553703 0.12144377]\n",
      " [0.89100806 0.51509223]\n",
      " [0.92441901 0.58124263]\n",
      " [0.77325639 0.42267689]\n",
      " [0.82546475 0.38540456]\n",
      " [0.35434596 0.42807852]\n",
      " [0.39506518 0.84462971]\n",
      " [0.37382381 0.37158098]\n",
      " [0.41594296 0.42454448]\n",
      " [0.66280484 0.18977593]\n",
      " [0.72247865 0.25366097]\n",
      " [0.96267414 0.13266125]\n",
      " [0.8067967  0.35499545]\n",
      " [0.0846383  0.73116878]\n",
      " [0.99660085 0.00959277]\n",
      " [0.23757339 0.46192478]\n",
      " [0.76525884 0.97250331]\n",
      " [0.915947   0.58744678]\n",
      " [0.44437533 0.44107594]\n",
      " [0.69399137 0.72664097]\n",
      " [0.73473276 0.38422053]\n",
      " [0.94539591 0.79366926]\n",
      " [0.25781467 0.63648694]\n",
      " [0.84514052 0.00777515]\n",
      " [0.07703627 0.98942514]\n",
      " [0.79096501 0.73688738]\n",
      " [0.86638985 0.23075412]\n",
      " [0.10550225 0.74293527]\n",
      " [0.47515634 0.75965283]\n",
      " [0.48599313 0.27593379]\n",
      " [0.38178337 0.6762014 ]\n",
      " [0.73647103 0.9706047 ]\n",
      " [0.68136272 0.490452  ]\n",
      " [0.12840324 0.50383093]\n",
      " [0.4096691  0.25559738]\n",
      " [0.61806603 0.89501445]\n",
      " [0.66750239 0.57585336]\n",
      " [0.64872048 0.96107677]\n",
      " [0.86436925 0.78272878]\n",
      " [0.31110332 0.27191386]\n",
      " [0.95738054 0.51644268]\n",
      " [0.41742553 0.63886307]\n",
      " [0.68952736 0.76848649]\n",
      " [0.44285459 0.95131449]\n",
      " [0.53279129 0.31356138]\n",
      " [0.20352206 0.98534762]\n",
      " [0.46783921 0.70292922]\n",
      " [0.15460409 0.73099939]\n",
      " [0.66058604 0.73642868]\n",
      " [0.90668929 0.79331631]\n",
      " [0.39496973 0.92215573]\n",
      " [0.04094532 0.79434211]\n",
      " [0.83797165 0.54192669]\n",
      " [0.6303722  0.97248392]]\n",
      "[[0.5881308  0.89771373]\n",
      " [0.89153073 0.81583748]\n",
      " [0.03588959 0.69175758]\n",
      " [0.37868094 0.51851095]\n",
      " [0.65795147 0.19385022]\n",
      " [0.2723164  0.71860593]\n",
      " [0.78300361 0.85032764]\n",
      " [0.77524489 0.03666431]\n",
      " [0.11669374 0.7512807 ]\n",
      " [0.23921822 0.25480601]\n",
      " [0.85762553 0.94977903]\n",
      " [0.56168686 0.17878052]\n",
      " [0.77025193 0.49238104]\n",
      " [0.63125307 0.83949792]\n",
      " [0.4610394  0.49794007]\n",
      " [0.67941112 0.65078591]\n",
      " [0.26879524 0.06732467]\n",
      " [0.77144514 0.48098413]\n",
      " [0.32920641 0.51064106]\n",
      " [0.26362883 0.31051155]\n",
      " [0.62685344 0.55744981]\n",
      " [0.31857956 0.39484322]\n",
      " [0.25797459 0.58224112]\n",
      " [0.16162871 0.59813382]\n",
      " [0.82582358 0.15639172]\n",
      " [0.73430052 0.40864343]\n",
      " [0.7786879  0.80397057]\n",
      " [0.78607144 0.59228702]\n",
      " [0.6644892  0.64656729]\n",
      " [0.42563648 0.51356833]\n",
      " [0.50125784 0.03708381]\n",
      " [0.7081161  0.6204306 ]\n",
      " [0.77780853 0.45940947]\n",
      " [0.37980555 0.2918922 ]\n",
      " [0.55722886 0.0841636 ]\n",
      " [0.63128167 0.94457049]\n",
      " [0.89123753 0.87858258]\n",
      " [0.34475163 0.70310053]\n",
      " [0.5273376  0.65931696]\n",
      " [0.26829063 0.60776708]\n",
      " [0.04815737 0.69550064]\n",
      " [0.29927188 0.16563555]\n",
      " [0.33225194 0.16543775]\n",
      " [0.91463798 0.28402501]\n",
      " [0.10760726 0.11700177]\n",
      " [0.7555236  0.83889446]\n",
      " [0.03553703 0.12144377]\n",
      " [0.89100806 0.51509223]\n",
      " [0.92441901 0.58124263]\n",
      " [0.77325639 0.42267689]\n",
      " [0.82546475 0.38540456]\n",
      " [0.35434596 0.42807852]\n",
      " [0.39506518 0.84462971]\n",
      " [0.37382381 0.37158098]\n",
      " [0.41594296 0.42454448]\n",
      " [0.66280484 0.18977593]\n",
      " [0.72247865 0.25366097]\n",
      " [0.96267414 0.13266125]\n",
      " [0.8067967  0.35499545]\n",
      " [0.0846383  0.73116878]\n",
      " [0.99660085 0.00959277]\n",
      " [0.23757339 0.46192478]\n",
      " [0.76525884 0.97250331]\n",
      " [0.915947   0.58744678]\n",
      " [0.44437533 0.44107594]\n",
      " [0.69399137 0.72664097]\n",
      " [0.73473276 0.38422053]\n",
      " [0.94539591 0.79366926]\n",
      " [0.25781467 0.63648694]\n",
      " [0.84514052 0.00777515]\n",
      " [0.07703627 0.98942514]\n",
      " [0.79096501 0.73688738]\n",
      " [0.86638985 0.23075412]\n",
      " [0.10550225 0.74293527]\n",
      " [0.47515634 0.75965283]\n",
      " [0.48599313 0.27593379]\n",
      " [0.38178337 0.6762014 ]\n",
      " [0.73647103 0.9706047 ]\n",
      " [0.68136272 0.490452  ]\n",
      " [0.12840324 0.50383093]\n",
      " [0.4096691  0.25559738]\n",
      " [0.61806603 0.89501445]\n",
      " [0.66750239 0.57585336]\n",
      " [0.64872048 0.96107677]\n",
      " [0.86436925 0.78272878]\n",
      " [0.31110332 0.27191386]\n",
      " [0.95738054 0.51644268]\n",
      " [0.41742553 0.63886307]\n",
      " [0.68952736 0.76848649]\n",
      " [0.44285459 0.95131449]\n",
      " [0.53279129 0.31356138]\n",
      " [0.20352206 0.98534762]\n",
      " [0.46783921 0.70292922]\n",
      " [0.15460409 0.73099939]\n",
      " [0.66058604 0.73642868]\n",
      " [0.90668929 0.79331631]\n",
      " [0.39496973 0.92215573]\n",
      " [0.04094532 0.79434211]\n",
      " [0.83797165 0.54192669]\n",
      " [0.6303722  0.97248392]]\n"
     ]
    }
   ],
   "source": [
    "log_ps = [compute_log_p(X, m, s) for m, s in zip(means, sigmas)]  # exercise: try to do this without looping"
   ]
  },
  {
   "cell_type": "code",
   "execution_count": 31,
   "metadata": {},
   "outputs": [
    {
     "name": "stdout",
     "output_type": "stream",
     "text": [
      "[[0 0 1 ... 1 0 0]\n",
      " [0 0 0 ... 0 0 0]\n",
      " [1 0 1 ... 1 0 0]\n",
      " ...\n",
      " [1 0 1 ... 1 0 0]\n",
      " [0 0 0 ... 0 0 0]\n",
      " [0 0 0 ... 0 0 0]]\n"
     ]
    }
   ],
   "source": [
    "assignments = np.argmax(log_ps, axis=0)\n",
    "print(assignments)"
   ]
  },
  {
   "cell_type": "code",
   "execution_count": 32,
   "metadata": {
    "scrolled": true
   },
   "outputs": [
    {
     "ename": "ValueError",
     "evalue": "c of shape (100, 100) not acceptable as a color sequence for x with size 100, y with size 100",
     "output_type": "error",
     "traceback": [
      "\u001b[0;31m---------------------------------------------------------------------------\u001b[0m",
      "\u001b[0;31mTypeError\u001b[0m                                 Traceback (most recent call last)",
      "\u001b[0;32m~/anaconda3/lib/python3.6/site-packages/matplotlib/colors.py\u001b[0m in \u001b[0;36mto_rgba\u001b[0;34m(c, alpha)\u001b[0m\n\u001b[1;32m    165\u001b[0m     \u001b[0;32mtry\u001b[0m\u001b[0;34m:\u001b[0m\u001b[0;34m\u001b[0m\u001b[0m\n\u001b[0;32m--> 166\u001b[0;31m         \u001b[0mrgba\u001b[0m \u001b[0;34m=\u001b[0m \u001b[0m_colors_full_map\u001b[0m\u001b[0;34m.\u001b[0m\u001b[0mcache\u001b[0m\u001b[0;34m[\u001b[0m\u001b[0mc\u001b[0m\u001b[0;34m,\u001b[0m \u001b[0malpha\u001b[0m\u001b[0;34m]\u001b[0m\u001b[0;34m\u001b[0m\u001b[0m\n\u001b[0m\u001b[1;32m    167\u001b[0m     \u001b[0;32mexcept\u001b[0m \u001b[0;34m(\u001b[0m\u001b[0mKeyError\u001b[0m\u001b[0;34m,\u001b[0m \u001b[0mTypeError\u001b[0m\u001b[0;34m)\u001b[0m\u001b[0;34m:\u001b[0m  \u001b[0;31m# Not in cache, or unhashable.\u001b[0m\u001b[0;34m\u001b[0m\u001b[0m\n",
      "\u001b[0;31mTypeError\u001b[0m: unhashable type: 'numpy.ndarray'",
      "\nDuring handling of the above exception, another exception occurred:\n",
      "\u001b[0;31mValueError\u001b[0m                                Traceback (most recent call last)",
      "\u001b[0;32m~/anaconda3/lib/python3.6/site-packages/matplotlib/axes/_axes.py\u001b[0m in \u001b[0;36mscatter\u001b[0;34m(self, x, y, s, c, marker, cmap, norm, vmin, vmax, alpha, linewidths, verts, edgecolors, **kwargs)\u001b[0m\n\u001b[1;32m   4273\u001b[0m                 \u001b[0;31m# must be acceptable as PathCollection facecolors\u001b[0m\u001b[0;34m\u001b[0m\u001b[0;34m\u001b[0m\u001b[0m\n\u001b[0;32m-> 4274\u001b[0;31m                 \u001b[0mcolors\u001b[0m \u001b[0;34m=\u001b[0m \u001b[0mmcolors\u001b[0m\u001b[0;34m.\u001b[0m\u001b[0mto_rgba_array\u001b[0m\u001b[0;34m(\u001b[0m\u001b[0mc\u001b[0m\u001b[0;34m)\u001b[0m\u001b[0;34m\u001b[0m\u001b[0m\n\u001b[0m\u001b[1;32m   4275\u001b[0m             \u001b[0;32mexcept\u001b[0m \u001b[0mValueError\u001b[0m\u001b[0;34m:\u001b[0m\u001b[0;34m\u001b[0m\u001b[0m\n",
      "\u001b[0;32m~/anaconda3/lib/python3.6/site-packages/matplotlib/colors.py\u001b[0m in \u001b[0;36mto_rgba_array\u001b[0;34m(c, alpha)\u001b[0m\n\u001b[1;32m    266\u001b[0m     \u001b[0;32mfor\u001b[0m \u001b[0mi\u001b[0m\u001b[0;34m,\u001b[0m \u001b[0mcc\u001b[0m \u001b[0;32min\u001b[0m \u001b[0menumerate\u001b[0m\u001b[0;34m(\u001b[0m\u001b[0mc\u001b[0m\u001b[0;34m)\u001b[0m\u001b[0;34m:\u001b[0m\u001b[0;34m\u001b[0m\u001b[0m\n\u001b[0;32m--> 267\u001b[0;31m         \u001b[0mresult\u001b[0m\u001b[0;34m[\u001b[0m\u001b[0mi\u001b[0m\u001b[0;34m]\u001b[0m \u001b[0;34m=\u001b[0m \u001b[0mto_rgba\u001b[0m\u001b[0;34m(\u001b[0m\u001b[0mcc\u001b[0m\u001b[0;34m,\u001b[0m \u001b[0malpha\u001b[0m\u001b[0;34m)\u001b[0m\u001b[0;34m\u001b[0m\u001b[0m\n\u001b[0m\u001b[1;32m    268\u001b[0m     \u001b[0;32mreturn\u001b[0m \u001b[0mresult\u001b[0m\u001b[0;34m\u001b[0m\u001b[0m\n",
      "\u001b[0;32m~/anaconda3/lib/python3.6/site-packages/matplotlib/colors.py\u001b[0m in \u001b[0;36mto_rgba\u001b[0;34m(c, alpha)\u001b[0m\n\u001b[1;32m    167\u001b[0m     \u001b[0;32mexcept\u001b[0m \u001b[0;34m(\u001b[0m\u001b[0mKeyError\u001b[0m\u001b[0;34m,\u001b[0m \u001b[0mTypeError\u001b[0m\u001b[0;34m)\u001b[0m\u001b[0;34m:\u001b[0m  \u001b[0;31m# Not in cache, or unhashable.\u001b[0m\u001b[0;34m\u001b[0m\u001b[0m\n\u001b[0;32m--> 168\u001b[0;31m         \u001b[0mrgba\u001b[0m \u001b[0;34m=\u001b[0m \u001b[0m_to_rgba_no_colorcycle\u001b[0m\u001b[0;34m(\u001b[0m\u001b[0mc\u001b[0m\u001b[0;34m,\u001b[0m \u001b[0malpha\u001b[0m\u001b[0;34m)\u001b[0m\u001b[0;34m\u001b[0m\u001b[0m\n\u001b[0m\u001b[1;32m    169\u001b[0m         \u001b[0;32mtry\u001b[0m\u001b[0;34m:\u001b[0m\u001b[0;34m\u001b[0m\u001b[0m\n",
      "\u001b[0;32m~/anaconda3/lib/python3.6/site-packages/matplotlib/colors.py\u001b[0m in \u001b[0;36m_to_rgba_no_colorcycle\u001b[0;34m(c, alpha)\u001b[0m\n\u001b[1;32m    218\u001b[0m         \u001b[0;31m# Test dimensionality to reject single floats.\u001b[0m\u001b[0;34m\u001b[0m\u001b[0;34m\u001b[0m\u001b[0m\n\u001b[0;32m--> 219\u001b[0;31m         \u001b[0;32mraise\u001b[0m \u001b[0mValueError\u001b[0m\u001b[0;34m(\u001b[0m\u001b[0;34m\"Invalid RGBA argument: {!r}\"\u001b[0m\u001b[0;34m.\u001b[0m\u001b[0mformat\u001b[0m\u001b[0;34m(\u001b[0m\u001b[0morig_c\u001b[0m\u001b[0;34m)\u001b[0m\u001b[0;34m)\u001b[0m\u001b[0;34m\u001b[0m\u001b[0m\n\u001b[0m\u001b[1;32m    220\u001b[0m     \u001b[0;31m# Return a tuple to prevent the cached value from being modified.\u001b[0m\u001b[0;34m\u001b[0m\u001b[0;34m\u001b[0m\u001b[0m\n",
      "\u001b[0;31mValueError\u001b[0m: Invalid RGBA argument: array(['red', 'red', 'green', 'red', 'red', 'red', 'red', 'red', 'red',\n       'green', 'red', 'red', 'red', 'red', 'red', 'red', 'green', 'red',\n       'red', 'red', 'red', 'red', 'red', 'red', 'red', 'red', 'red',\n       'red', 'red', 'red', 'red', 'red', 'red', 'red', 'red', 'red',\n       'red', 'red', 'red', 'red', 'green', 'green', 'red', 'red',\n       'green', 'red', 'green', 'red', 'red', 'red', 'red', 'red', 'red',\n       'red', 'red', 'red', 'red', 'red', 'red', 'green', 'red', 'red',\n       'red', 'red', 'red', 'red', 'red', 'red', 'red', 'red', 'red',\n       'red', 'red', 'red', 'red', 'red', 'red', 'red', 'red', 'green',\n       'red', 'red', 'red', 'red', 'red', 'red', 'red', 'red', 'red',\n       'red', 'red', 'red', 'red', 'red', 'red', 'red', 'red', 'green',\n       'red', 'red'], dtype='<U5')",
      "\nDuring handling of the above exception, another exception occurred:\n",
      "\u001b[0;31mValueError\u001b[0m                                Traceback (most recent call last)",
      "\u001b[0;32m<ipython-input-32-271ee89a77fd>\u001b[0m in \u001b[0;36m<module>\u001b[0;34m()\u001b[0m\n\u001b[1;32m      1\u001b[0m \u001b[0mcolors\u001b[0m \u001b[0;34m=\u001b[0m \u001b[0mnp\u001b[0m\u001b[0;34m.\u001b[0m\u001b[0marray\u001b[0m\u001b[0;34m(\u001b[0m\u001b[0;34m[\u001b[0m\u001b[0;34m'red'\u001b[0m\u001b[0;34m,\u001b[0m \u001b[0;34m'green'\u001b[0m\u001b[0;34m]\u001b[0m\u001b[0;34m)\u001b[0m\u001b[0;34m[\u001b[0m\u001b[0massignments\u001b[0m\u001b[0;34m]\u001b[0m\u001b[0;34m\u001b[0m\u001b[0m\n\u001b[0;32m----> 2\u001b[0;31m \u001b[0mplt\u001b[0m\u001b[0;34m.\u001b[0m\u001b[0mscatter\u001b[0m\u001b[0;34m(\u001b[0m\u001b[0mX\u001b[0m\u001b[0;34m[\u001b[0m\u001b[0;34m:\u001b[0m\u001b[0;34m,\u001b[0m \u001b[0;36m0\u001b[0m\u001b[0;34m]\u001b[0m\u001b[0;34m,\u001b[0m \u001b[0mX\u001b[0m\u001b[0;34m[\u001b[0m\u001b[0;34m:\u001b[0m\u001b[0;34m,\u001b[0m \u001b[0;36m1\u001b[0m\u001b[0;34m]\u001b[0m\u001b[0;34m,\u001b[0m \u001b[0mc\u001b[0m\u001b[0;34m=\u001b[0m\u001b[0mcolors\u001b[0m\u001b[0;34m,\u001b[0m \u001b[0ms\u001b[0m\u001b[0;34m=\u001b[0m\u001b[0;36m100\u001b[0m\u001b[0;34m)\u001b[0m\u001b[0;34m\u001b[0m\u001b[0m\n\u001b[0m\u001b[1;32m      3\u001b[0m \u001b[0mplt\u001b[0m\u001b[0;34m.\u001b[0m\u001b[0mscatter\u001b[0m\u001b[0;34m(\u001b[0m\u001b[0mnp\u001b[0m\u001b[0;34m.\u001b[0m\u001b[0marray\u001b[0m\u001b[0;34m(\u001b[0m\u001b[0mmeans\u001b[0m\u001b[0;34m)\u001b[0m\u001b[0;34m[\u001b[0m\u001b[0;34m:\u001b[0m\u001b[0;34m,\u001b[0m \u001b[0;36m0\u001b[0m\u001b[0;34m]\u001b[0m\u001b[0;34m,\u001b[0m \u001b[0mnp\u001b[0m\u001b[0;34m.\u001b[0m\u001b[0marray\u001b[0m\u001b[0;34m(\u001b[0m\u001b[0mmeans\u001b[0m\u001b[0;34m)\u001b[0m\u001b[0;34m[\u001b[0m\u001b[0;34m:\u001b[0m\u001b[0;34m,\u001b[0m \u001b[0;36m1\u001b[0m\u001b[0;34m]\u001b[0m\u001b[0;34m,\u001b[0m \u001b[0mmarker\u001b[0m\u001b[0;34m=\u001b[0m\u001b[0;34m'*'\u001b[0m\u001b[0;34m,\u001b[0m \u001b[0ms\u001b[0m\u001b[0;34m=\u001b[0m\u001b[0;36m200\u001b[0m\u001b[0;34m)\u001b[0m\u001b[0;34m\u001b[0m\u001b[0m\n\u001b[1;32m      4\u001b[0m \u001b[0mplt\u001b[0m\u001b[0;34m.\u001b[0m\u001b[0mshow\u001b[0m\u001b[0;34m(\u001b[0m\u001b[0;34m)\u001b[0m\u001b[0;34m\u001b[0m\u001b[0m\n",
      "\u001b[0;32m~/anaconda3/lib/python3.6/site-packages/matplotlib/pyplot.py\u001b[0m in \u001b[0;36mscatter\u001b[0;34m(x, y, s, c, marker, cmap, norm, vmin, vmax, alpha, linewidths, verts, edgecolors, hold, data, **kwargs)\u001b[0m\n\u001b[1;32m   3468\u001b[0m                          \u001b[0mvmin\u001b[0m\u001b[0;34m=\u001b[0m\u001b[0mvmin\u001b[0m\u001b[0;34m,\u001b[0m \u001b[0mvmax\u001b[0m\u001b[0;34m=\u001b[0m\u001b[0mvmax\u001b[0m\u001b[0;34m,\u001b[0m \u001b[0malpha\u001b[0m\u001b[0;34m=\u001b[0m\u001b[0malpha\u001b[0m\u001b[0;34m,\u001b[0m\u001b[0;34m\u001b[0m\u001b[0m\n\u001b[1;32m   3469\u001b[0m                          \u001b[0mlinewidths\u001b[0m\u001b[0;34m=\u001b[0m\u001b[0mlinewidths\u001b[0m\u001b[0;34m,\u001b[0m \u001b[0mverts\u001b[0m\u001b[0;34m=\u001b[0m\u001b[0mverts\u001b[0m\u001b[0;34m,\u001b[0m\u001b[0;34m\u001b[0m\u001b[0m\n\u001b[0;32m-> 3470\u001b[0;31m                          edgecolors=edgecolors, data=data, **kwargs)\n\u001b[0m\u001b[1;32m   3471\u001b[0m     \u001b[0;32mfinally\u001b[0m\u001b[0;34m:\u001b[0m\u001b[0;34m\u001b[0m\u001b[0m\n\u001b[1;32m   3472\u001b[0m         \u001b[0max\u001b[0m\u001b[0;34m.\u001b[0m\u001b[0m_hold\u001b[0m \u001b[0;34m=\u001b[0m \u001b[0mwashold\u001b[0m\u001b[0;34m\u001b[0m\u001b[0m\n",
      "\u001b[0;32m~/anaconda3/lib/python3.6/site-packages/matplotlib/__init__.py\u001b[0m in \u001b[0;36minner\u001b[0;34m(ax, *args, **kwargs)\u001b[0m\n\u001b[1;32m   1853\u001b[0m                         \u001b[0;34m\"the Matplotlib list!)\"\u001b[0m \u001b[0;34m%\u001b[0m \u001b[0;34m(\u001b[0m\u001b[0mlabel_namer\u001b[0m\u001b[0;34m,\u001b[0m \u001b[0mfunc\u001b[0m\u001b[0;34m.\u001b[0m\u001b[0m__name__\u001b[0m\u001b[0;34m)\u001b[0m\u001b[0;34m,\u001b[0m\u001b[0;34m\u001b[0m\u001b[0m\n\u001b[1;32m   1854\u001b[0m                         RuntimeWarning, stacklevel=2)\n\u001b[0;32m-> 1855\u001b[0;31m             \u001b[0;32mreturn\u001b[0m \u001b[0mfunc\u001b[0m\u001b[0;34m(\u001b[0m\u001b[0max\u001b[0m\u001b[0;34m,\u001b[0m \u001b[0;34m*\u001b[0m\u001b[0margs\u001b[0m\u001b[0;34m,\u001b[0m \u001b[0;34m**\u001b[0m\u001b[0mkwargs\u001b[0m\u001b[0;34m)\u001b[0m\u001b[0;34m\u001b[0m\u001b[0m\n\u001b[0m\u001b[1;32m   1856\u001b[0m \u001b[0;34m\u001b[0m\u001b[0m\n\u001b[1;32m   1857\u001b[0m         inner.__doc__ = _add_data_doc(inner.__doc__,\n",
      "\u001b[0;32m~/anaconda3/lib/python3.6/site-packages/matplotlib/axes/_axes.py\u001b[0m in \u001b[0;36mscatter\u001b[0;34m(self, x, y, s, c, marker, cmap, norm, vmin, vmax, alpha, linewidths, verts, edgecolors, **kwargs)\u001b[0m\n\u001b[1;32m   4277\u001b[0m                 raise ValueError(\"c of shape {} not acceptable as a color \"\n\u001b[1;32m   4278\u001b[0m                                  \u001b[0;34m\"sequence for x with size {}, y with size {}\"\u001b[0m\u001b[0;34m\u001b[0m\u001b[0m\n\u001b[0;32m-> 4279\u001b[0;31m                                  .format(c.shape, x.size, y.size))\n\u001b[0m\u001b[1;32m   4280\u001b[0m         \u001b[0;32melse\u001b[0m\u001b[0;34m:\u001b[0m\u001b[0;34m\u001b[0m\u001b[0m\n\u001b[1;32m   4281\u001b[0m             \u001b[0mcolors\u001b[0m \u001b[0;34m=\u001b[0m \u001b[0;32mNone\u001b[0m  \u001b[0;31m# use cmap, norm after collection is created\u001b[0m\u001b[0;34m\u001b[0m\u001b[0m\n",
      "\u001b[0;31mValueError\u001b[0m: c of shape (100, 100) not acceptable as a color sequence for x with size 100, y with size 100"
     ]
    },
    {
     "data": {
      "image/png": "[encoded data removed]",
      "text/plain": [
       "<Figure size 432x288 with 1 Axes>"
      ]
     },
     "metadata": {},
     "output_type": "display_data"
    }
   ],
   "source": [
    "colors = np.array(['red', 'green'])[assignments]\n",
    "plt.scatter(X[:, 0], X[:, 1], c=colors, s=100)\n",
    "plt.scatter(np.array(means)[:, 0], np.array(means)[:, 1], marker='*', s=200)\n",
    "plt.show()"
   ]
  }
 ],
 "metadata": {
  "kernelspec": {
   "display_name": "Python 3",
   "language": "python",
   "name": "python3"
  },
  "language_info": {
   "codemirror_mode": {
    "name": "ipython",
    "version": 3
   },
   "file_extension": ".py",
   "mimetype": "text/x-python",
   "name": "python",
   "nbconvert_exporter": "python",
   "pygments_lexer": "ipython3",
   "version": "3.6.5"
  }
 },
 "nbformat": 4,
 "nbformat_minor": 1
}
